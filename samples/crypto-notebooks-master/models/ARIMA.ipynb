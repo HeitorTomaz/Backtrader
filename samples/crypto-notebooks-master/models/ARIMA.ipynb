{
 "cells": [
  {
   "cell_type": "markdown",
   "metadata": {},
   "source": [
    "# ARIMA\n",
    "\n",
    "AutoRegressive Integrated Moving Average."
   ]
  },
  {
   "cell_type": "code",
   "execution_count": 1,
   "metadata": {},
   "outputs": [],
   "source": [
    "import matplotlib.pyplot as plt\n",
    "import numpy as np\n",
    "import pandas as pd\n",
    "import seaborn as sns\n",
    "import statsmodels.api as sm\n",
    "from scipy import stats\n",
    "from statsmodels.graphics.tsaplots import plot_acf, plot_pacf\n",
    "from statsmodels.tsa.stattools import adfuller as ADF\n",
    "\n",
    "%matplotlib inline"
   ]
  },
  {
   "cell_type": "code",
   "execution_count": 2,
   "metadata": {},
   "outputs": [],
   "source": [
    "import warnings\n",
    "warnings.filterwarnings('ignore')"
   ]
  },
  {
   "cell_type": "markdown",
   "metadata": {},
   "source": [
    "## 1. Data Exploration"
   ]
  },
  {
   "cell_type": "code",
   "execution_count": 3,
   "metadata": {},
   "outputs": [],
   "source": [
    "from utils import read_bars as read_bars_tmp\n",
    "\n",
    "# Read bars in May 2020\n",
    "def read_bars(csv_file: str)->pd.DataFrame:\n",
    "    # TIME_BEGIN = pd.to_datetime('2020-05-01T00:00:00.000Z')\n",
    "    # TIME_END = pd.to_datetime('2020-06-01T00:00:00.000Z')\n",
    "    TIME_BEGIN = pd.to_datetime('2020-05-12T00:00:00.000Z')\n",
    "    TIME_END = pd.to_datetime('2020-05-14T00:00:00.000Z')\n",
    "    bars_df = read_bars_tmp(csv_file)\n",
    "    bars_df = bars_df[(bars_df['timestamp'] >= TIME_BEGIN) & (bars_df['timestamp_end'] < TIME_END)]\n",
    "    return bars_df"
   ]
  },
  {
   "cell_type": "code",
   "execution_count": 4,
   "metadata": {},
   "outputs": [],
   "source": [
    "time_bars = read_bars('/data/bars/TimeBar/60000/TimeBar.60000.Binance.Swap.BTC_USDT.csv')"
   ]
  },
  {
   "cell_type": "code",
   "execution_count": 5,
   "metadata": {},
   "outputs": [
    {
     "data": {
      "text/html": [
       "<div>\n",
       "<style scoped>\n",
       "    .dataframe tbody tr th:only-of-type {\n",
       "        vertical-align: middle;\n",
       "    }\n",
       "\n",
       "    .dataframe tbody tr th {\n",
       "        vertical-align: top;\n",
       "    }\n",
       "\n",
       "    .dataframe thead th {\n",
       "        text-align: right;\n",
       "    }\n",
       "</style>\n",
       "<table border=\"1\" class=\"dataframe\">\n",
       "  <thead>\n",
       "    <tr style=\"text-align: right;\">\n",
       "      <th></th>\n",
       "      <th>exchange</th>\n",
       "      <th>market_type</th>\n",
       "      <th>pair</th>\n",
       "      <th>bar_type</th>\n",
       "      <th>bar_size</th>\n",
       "      <th>timestamp</th>\n",
       "      <th>timestamp_end</th>\n",
       "      <th>open</th>\n",
       "      <th>high</th>\n",
       "      <th>low</th>\n",
       "      <th>...</th>\n",
       "      <th>volume</th>\n",
       "      <th>volume_sell</th>\n",
       "      <th>volume_buy</th>\n",
       "      <th>volume_quote</th>\n",
       "      <th>volume_quote_sell</th>\n",
       "      <th>volume_quote_buy</th>\n",
       "      <th>count</th>\n",
       "      <th>count_sell</th>\n",
       "      <th>count_buy</th>\n",
       "      <th>vwap</th>\n",
       "    </tr>\n",
       "    <tr>\n",
       "      <th>timestamp</th>\n",
       "      <th></th>\n",
       "      <th></th>\n",
       "      <th></th>\n",
       "      <th></th>\n",
       "      <th></th>\n",
       "      <th></th>\n",
       "      <th></th>\n",
       "      <th></th>\n",
       "      <th></th>\n",
       "      <th></th>\n",
       "      <th></th>\n",
       "      <th></th>\n",
       "      <th></th>\n",
       "      <th></th>\n",
       "      <th></th>\n",
       "      <th></th>\n",
       "      <th></th>\n",
       "      <th></th>\n",
       "      <th></th>\n",
       "      <th></th>\n",
       "      <th></th>\n",
       "    </tr>\n",
       "  </thead>\n",
       "  <tbody>\n",
       "    <tr>\n",
       "      <th>2020-05-12 00:00:00</th>\n",
       "      <td>Binance</td>\n",
       "      <td>Swap</td>\n",
       "      <td>BTC_USDT</td>\n",
       "      <td>TimeBar</td>\n",
       "      <td>60000</td>\n",
       "      <td>2020-05-12 00:00:00</td>\n",
       "      <td>2020-05-12 00:01:00</td>\n",
       "      <td>8560.730469</td>\n",
       "      <td>8561.879883</td>\n",
       "      <td>8540.769531</td>\n",
       "      <td>...</td>\n",
       "      <td>468.460</td>\n",
       "      <td>226.205</td>\n",
       "      <td>242.255</td>\n",
       "      <td>4005012.0</td>\n",
       "      <td>1933902.50</td>\n",
       "      <td>4004785.80</td>\n",
       "      <td>1060</td>\n",
       "      <td>506</td>\n",
       "      <td>554</td>\n",
       "      <td>8549.314776</td>\n",
       "    </tr>\n",
       "    <tr>\n",
       "      <th>2020-05-12 00:01:00</th>\n",
       "      <td>Binance</td>\n",
       "      <td>Swap</td>\n",
       "      <td>BTC_USDT</td>\n",
       "      <td>TimeBar</td>\n",
       "      <td>60000</td>\n",
       "      <td>2020-05-12 00:01:00</td>\n",
       "      <td>2020-05-12 00:02:00</td>\n",
       "      <td>8545.000000</td>\n",
       "      <td>8566.709961</td>\n",
       "      <td>8544.040039</td>\n",
       "      <td>...</td>\n",
       "      <td>321.819</td>\n",
       "      <td>223.273</td>\n",
       "      <td>98.546</td>\n",
       "      <td>2754213.0</td>\n",
       "      <td>1910834.60</td>\n",
       "      <td>2753989.80</td>\n",
       "      <td>904</td>\n",
       "      <td>610</td>\n",
       "      <td>294</td>\n",
       "      <td>8558.267225</td>\n",
       "    </tr>\n",
       "    <tr>\n",
       "      <th>2020-05-12 00:02:00</th>\n",
       "      <td>Binance</td>\n",
       "      <td>Swap</td>\n",
       "      <td>BTC_USDT</td>\n",
       "      <td>TimeBar</td>\n",
       "      <td>60000</td>\n",
       "      <td>2020-05-12 00:02:00</td>\n",
       "      <td>2020-05-12 00:03:00</td>\n",
       "      <td>8561.419922</td>\n",
       "      <td>8561.419922</td>\n",
       "      <td>8520.429688</td>\n",
       "      <td>...</td>\n",
       "      <td>519.416</td>\n",
       "      <td>187.146</td>\n",
       "      <td>332.270</td>\n",
       "      <td>4435116.0</td>\n",
       "      <td>1597941.40</td>\n",
       "      <td>4434929.00</td>\n",
       "      <td>1090</td>\n",
       "      <td>422</td>\n",
       "      <td>668</td>\n",
       "      <td>8538.658801</td>\n",
       "    </tr>\n",
       "    <tr>\n",
       "      <th>2020-05-12 00:03:00</th>\n",
       "      <td>Binance</td>\n",
       "      <td>Swap</td>\n",
       "      <td>BTC_USDT</td>\n",
       "      <td>TimeBar</td>\n",
       "      <td>60000</td>\n",
       "      <td>2020-05-12 00:03:00</td>\n",
       "      <td>2020-05-12 00:04:00</td>\n",
       "      <td>8534.389648</td>\n",
       "      <td>8548.549805</td>\n",
       "      <td>8534.059570</td>\n",
       "      <td>...</td>\n",
       "      <td>249.244</td>\n",
       "      <td>169.360</td>\n",
       "      <td>79.884</td>\n",
       "      <td>2129134.5</td>\n",
       "      <td>1446641.00</td>\n",
       "      <td>2128965.00</td>\n",
       "      <td>578</td>\n",
       "      <td>352</td>\n",
       "      <td>226</td>\n",
       "      <td>8542.370127</td>\n",
       "    </tr>\n",
       "    <tr>\n",
       "      <th>2020-05-12 00:04:00</th>\n",
       "      <td>Binance</td>\n",
       "      <td>Swap</td>\n",
       "      <td>BTC_USDT</td>\n",
       "      <td>TimeBar</td>\n",
       "      <td>60000</td>\n",
       "      <td>2020-05-12 00:04:00</td>\n",
       "      <td>2020-05-12 00:05:00</td>\n",
       "      <td>8543.940430</td>\n",
       "      <td>8570.969727</td>\n",
       "      <td>8542.769531</td>\n",
       "      <td>...</td>\n",
       "      <td>239.320</td>\n",
       "      <td>193.483</td>\n",
       "      <td>45.837</td>\n",
       "      <td>2048108.5</td>\n",
       "      <td>1655730.80</td>\n",
       "      <td>2047915.00</td>\n",
       "      <td>613</td>\n",
       "      <td>453</td>\n",
       "      <td>160</td>\n",
       "      <td>8558.033177</td>\n",
       "    </tr>\n",
       "    <tr>\n",
       "      <th>...</th>\n",
       "      <td>...</td>\n",
       "      <td>...</td>\n",
       "      <td>...</td>\n",
       "      <td>...</td>\n",
       "      <td>...</td>\n",
       "      <td>...</td>\n",
       "      <td>...</td>\n",
       "      <td>...</td>\n",
       "      <td>...</td>\n",
       "      <td>...</td>\n",
       "      <td>...</td>\n",
       "      <td>...</td>\n",
       "      <td>...</td>\n",
       "      <td>...</td>\n",
       "      <td>...</td>\n",
       "      <td>...</td>\n",
       "      <td>...</td>\n",
       "      <td>...</td>\n",
       "      <td>...</td>\n",
       "      <td>...</td>\n",
       "      <td>...</td>\n",
       "    </tr>\n",
       "    <tr>\n",
       "      <th>2020-05-13 23:54:00</th>\n",
       "      <td>Binance</td>\n",
       "      <td>Swap</td>\n",
       "      <td>BTC_USDT</td>\n",
       "      <td>TimeBar</td>\n",
       "      <td>60000</td>\n",
       "      <td>2020-05-13 23:54:00</td>\n",
       "      <td>2020-05-13 23:55:00</td>\n",
       "      <td>9298.000000</td>\n",
       "      <td>9302.209961</td>\n",
       "      <td>9297.490234</td>\n",
       "      <td>...</td>\n",
       "      <td>76.058</td>\n",
       "      <td>48.657</td>\n",
       "      <td>27.401</td>\n",
       "      <td>707271.4</td>\n",
       "      <td>452464.72</td>\n",
       "      <td>707222.75</td>\n",
       "      <td>209</td>\n",
       "      <td>128</td>\n",
       "      <td>81</td>\n",
       "      <td>9299.105945</td>\n",
       "    </tr>\n",
       "    <tr>\n",
       "      <th>2020-05-13 23:55:00</th>\n",
       "      <td>Binance</td>\n",
       "      <td>Swap</td>\n",
       "      <td>BTC_USDT</td>\n",
       "      <td>TimeBar</td>\n",
       "      <td>60000</td>\n",
       "      <td>2020-05-13 23:55:00</td>\n",
       "      <td>2020-05-13 23:56:00</td>\n",
       "      <td>9300.740234</td>\n",
       "      <td>9303.059570</td>\n",
       "      <td>9298.530273</td>\n",
       "      <td>...</td>\n",
       "      <td>74.680</td>\n",
       "      <td>23.799</td>\n",
       "      <td>50.881</td>\n",
       "      <td>694553.2</td>\n",
       "      <td>221346.73</td>\n",
       "      <td>694529.40</td>\n",
       "      <td>195</td>\n",
       "      <td>72</td>\n",
       "      <td>123</td>\n",
       "      <td>9300.391002</td>\n",
       "    </tr>\n",
       "    <tr>\n",
       "      <th>2020-05-13 23:56:00</th>\n",
       "      <td>Binance</td>\n",
       "      <td>Swap</td>\n",
       "      <td>BTC_USDT</td>\n",
       "      <td>TimeBar</td>\n",
       "      <td>60000</td>\n",
       "      <td>2020-05-13 23:56:00</td>\n",
       "      <td>2020-05-13 23:57:00</td>\n",
       "      <td>9299.509766</td>\n",
       "      <td>9299.799805</td>\n",
       "      <td>9286.160156</td>\n",
       "      <td>...</td>\n",
       "      <td>786.964</td>\n",
       "      <td>322.447</td>\n",
       "      <td>464.517</td>\n",
       "      <td>7312268.5</td>\n",
       "      <td>2996319.20</td>\n",
       "      <td>7311946.50</td>\n",
       "      <td>839</td>\n",
       "      <td>428</td>\n",
       "      <td>411</td>\n",
       "      <td>9291.744603</td>\n",
       "    </tr>\n",
       "    <tr>\n",
       "      <th>2020-05-13 23:57:00</th>\n",
       "      <td>Binance</td>\n",
       "      <td>Swap</td>\n",
       "      <td>BTC_USDT</td>\n",
       "      <td>TimeBar</td>\n",
       "      <td>60000</td>\n",
       "      <td>2020-05-13 23:57:00</td>\n",
       "      <td>2020-05-13 23:58:00</td>\n",
       "      <td>9290.250000</td>\n",
       "      <td>9294.780273</td>\n",
       "      <td>9286.849609</td>\n",
       "      <td>...</td>\n",
       "      <td>123.666</td>\n",
       "      <td>40.131</td>\n",
       "      <td>83.535</td>\n",
       "      <td>1148946.5</td>\n",
       "      <td>372883.25</td>\n",
       "      <td>1148906.40</td>\n",
       "      <td>253</td>\n",
       "      <td>106</td>\n",
       "      <td>147</td>\n",
       "      <td>9290.722591</td>\n",
       "    </tr>\n",
       "    <tr>\n",
       "      <th>2020-05-13 23:58:00</th>\n",
       "      <td>Binance</td>\n",
       "      <td>Swap</td>\n",
       "      <td>BTC_USDT</td>\n",
       "      <td>TimeBar</td>\n",
       "      <td>60000</td>\n",
       "      <td>2020-05-13 23:58:00</td>\n",
       "      <td>2020-05-13 23:59:00</td>\n",
       "      <td>9286.500000</td>\n",
       "      <td>9294.400391</td>\n",
       "      <td>9286.160156</td>\n",
       "      <td>...</td>\n",
       "      <td>171.016</td>\n",
       "      <td>84.362</td>\n",
       "      <td>86.654</td>\n",
       "      <td>1588586.9</td>\n",
       "      <td>783716.44</td>\n",
       "      <td>1588502.50</td>\n",
       "      <td>297</td>\n",
       "      <td>149</td>\n",
       "      <td>148</td>\n",
       "      <td>9289.112715</td>\n",
       "    </tr>\n",
       "  </tbody>\n",
       "</table>\n",
       "<p>2804 rows × 23 columns</p>\n",
       "</div>"
      ],
      "text/plain": [
       "                    exchange market_type      pair bar_type bar_size  \\\n",
       "timestamp                                                              \n",
       "2020-05-12 00:00:00  Binance        Swap  BTC_USDT  TimeBar    60000   \n",
       "2020-05-12 00:01:00  Binance        Swap  BTC_USDT  TimeBar    60000   \n",
       "2020-05-12 00:02:00  Binance        Swap  BTC_USDT  TimeBar    60000   \n",
       "2020-05-12 00:03:00  Binance        Swap  BTC_USDT  TimeBar    60000   \n",
       "2020-05-12 00:04:00  Binance        Swap  BTC_USDT  TimeBar    60000   \n",
       "...                      ...         ...       ...      ...      ...   \n",
       "2020-05-13 23:54:00  Binance        Swap  BTC_USDT  TimeBar    60000   \n",
       "2020-05-13 23:55:00  Binance        Swap  BTC_USDT  TimeBar    60000   \n",
       "2020-05-13 23:56:00  Binance        Swap  BTC_USDT  TimeBar    60000   \n",
       "2020-05-13 23:57:00  Binance        Swap  BTC_USDT  TimeBar    60000   \n",
       "2020-05-13 23:58:00  Binance        Swap  BTC_USDT  TimeBar    60000   \n",
       "\n",
       "                              timestamp       timestamp_end         open  \\\n",
       "timestamp                                                                  \n",
       "2020-05-12 00:00:00 2020-05-12 00:00:00 2020-05-12 00:01:00  8560.730469   \n",
       "2020-05-12 00:01:00 2020-05-12 00:01:00 2020-05-12 00:02:00  8545.000000   \n",
       "2020-05-12 00:02:00 2020-05-12 00:02:00 2020-05-12 00:03:00  8561.419922   \n",
       "2020-05-12 00:03:00 2020-05-12 00:03:00 2020-05-12 00:04:00  8534.389648   \n",
       "2020-05-12 00:04:00 2020-05-12 00:04:00 2020-05-12 00:05:00  8543.940430   \n",
       "...                                 ...                 ...          ...   \n",
       "2020-05-13 23:54:00 2020-05-13 23:54:00 2020-05-13 23:55:00  9298.000000   \n",
       "2020-05-13 23:55:00 2020-05-13 23:55:00 2020-05-13 23:56:00  9300.740234   \n",
       "2020-05-13 23:56:00 2020-05-13 23:56:00 2020-05-13 23:57:00  9299.509766   \n",
       "2020-05-13 23:57:00 2020-05-13 23:57:00 2020-05-13 23:58:00  9290.250000   \n",
       "2020-05-13 23:58:00 2020-05-13 23:58:00 2020-05-13 23:59:00  9286.500000   \n",
       "\n",
       "                            high          low  ...   volume  volume_sell  \\\n",
       "timestamp                                      ...                         \n",
       "2020-05-12 00:00:00  8561.879883  8540.769531  ...  468.460      226.205   \n",
       "2020-05-12 00:01:00  8566.709961  8544.040039  ...  321.819      223.273   \n",
       "2020-05-12 00:02:00  8561.419922  8520.429688  ...  519.416      187.146   \n",
       "2020-05-12 00:03:00  8548.549805  8534.059570  ...  249.244      169.360   \n",
       "2020-05-12 00:04:00  8570.969727  8542.769531  ...  239.320      193.483   \n",
       "...                          ...          ...  ...      ...          ...   \n",
       "2020-05-13 23:54:00  9302.209961  9297.490234  ...   76.058       48.657   \n",
       "2020-05-13 23:55:00  9303.059570  9298.530273  ...   74.680       23.799   \n",
       "2020-05-13 23:56:00  9299.799805  9286.160156  ...  786.964      322.447   \n",
       "2020-05-13 23:57:00  9294.780273  9286.849609  ...  123.666       40.131   \n",
       "2020-05-13 23:58:00  9294.400391  9286.160156  ...  171.016       84.362   \n",
       "\n",
       "                     volume_buy  volume_quote  volume_quote_sell  \\\n",
       "timestamp                                                          \n",
       "2020-05-12 00:00:00     242.255     4005012.0         1933902.50   \n",
       "2020-05-12 00:01:00      98.546     2754213.0         1910834.60   \n",
       "2020-05-12 00:02:00     332.270     4435116.0         1597941.40   \n",
       "2020-05-12 00:03:00      79.884     2129134.5         1446641.00   \n",
       "2020-05-12 00:04:00      45.837     2048108.5         1655730.80   \n",
       "...                         ...           ...                ...   \n",
       "2020-05-13 23:54:00      27.401      707271.4          452464.72   \n",
       "2020-05-13 23:55:00      50.881      694553.2          221346.73   \n",
       "2020-05-13 23:56:00     464.517     7312268.5         2996319.20   \n",
       "2020-05-13 23:57:00      83.535     1148946.5          372883.25   \n",
       "2020-05-13 23:58:00      86.654     1588586.9          783716.44   \n",
       "\n",
       "                     volume_quote_buy  count  count_sell  count_buy  \\\n",
       "timestamp                                                             \n",
       "2020-05-12 00:00:00        4004785.80   1060         506        554   \n",
       "2020-05-12 00:01:00        2753989.80    904         610        294   \n",
       "2020-05-12 00:02:00        4434929.00   1090         422        668   \n",
       "2020-05-12 00:03:00        2128965.00    578         352        226   \n",
       "2020-05-12 00:04:00        2047915.00    613         453        160   \n",
       "...                               ...    ...         ...        ...   \n",
       "2020-05-13 23:54:00         707222.75    209         128         81   \n",
       "2020-05-13 23:55:00         694529.40    195          72        123   \n",
       "2020-05-13 23:56:00        7311946.50    839         428        411   \n",
       "2020-05-13 23:57:00        1148906.40    253         106        147   \n",
       "2020-05-13 23:58:00        1588502.50    297         149        148   \n",
       "\n",
       "                            vwap  \n",
       "timestamp                         \n",
       "2020-05-12 00:00:00  8549.314776  \n",
       "2020-05-12 00:01:00  8558.267225  \n",
       "2020-05-12 00:02:00  8538.658801  \n",
       "2020-05-12 00:03:00  8542.370127  \n",
       "2020-05-12 00:04:00  8558.033177  \n",
       "...                          ...  \n",
       "2020-05-13 23:54:00  9299.105945  \n",
       "2020-05-13 23:55:00  9300.391002  \n",
       "2020-05-13 23:56:00  9291.744603  \n",
       "2020-05-13 23:57:00  9290.722591  \n",
       "2020-05-13 23:58:00  9289.112715  \n",
       "\n",
       "[2804 rows x 23 columns]"
      ]
     },
     "execution_count": 5,
     "metadata": {},
     "output_type": "execute_result"
    }
   ],
   "source": [
    "time_bars"
   ]
  },
  {
   "cell_type": "markdown",
   "metadata": {},
   "source": [
    "### 1.1 Plot price"
   ]
  },
  {
   "cell_type": "code",
   "execution_count": 6,
   "metadata": {},
   "outputs": [],
   "source": [
    "prices = time_bars['vwap'].rename('price')"
   ]
  },
  {
   "cell_type": "code",
   "execution_count": 7,
   "metadata": {},
   "outputs": [
    {
     "data": {
      "text/plain": [
       "<matplotlib.axes._subplots.AxesSubplot at 0x7fa1c4fee2d0>"
      ]
     },
     "execution_count": 7,
     "metadata": {},
     "output_type": "execute_result"
    },
    {
     "data": {
      "image/png": "[encoded data removed]",
      "text/plain": [
       "<Figure size 1152x576 with 1 Axes>"
      ]
     },
     "metadata": {
      "needs_background": "light"
     },
     "output_type": "display_data"
    }
   ],
   "source": [
    "fig, ax = plt.subplots(figsize=(16, 8))\n",
    "sns.lineplot(x=prices.index, y=prices, ax=ax)"
   ]
  },
  {
   "cell_type": "markdown",
   "metadata": {},
   "source": [
    "There is a clear trend in the prices above, so the price time series is not stationary."
   ]
  },
  {
   "cell_type": "markdown",
   "metadata": {},
   "source": [
    "### 1.2 ADF test"
   ]
  },
  {
   "cell_type": "code",
   "execution_count": 8,
   "metadata": {},
   "outputs": [],
   "source": [
    "adf_result = ADF(prices)"
   ]
  },
  {
   "cell_type": "code",
   "execution_count": 9,
   "metadata": {},
   "outputs": [
    {
     "name": "stdout",
     "output_type": "stream",
     "text": [
      "ADF Statistic: -0.850589\n",
      "p-value: 0.803809\n",
      "Used lag: 5.000000\n",
      "Number of observations: 2798.000000\n",
      "Critical Values:\n",
      "\t1%: -3.433\n",
      "\t5%: -2.863\n",
      "\t10%: -2.567\n"
     ]
    }
   ],
   "source": [
    "print('ADF Statistic: %f' % adf_result[0])\n",
    "print('p-value: %f' % adf_result[1])\n",
    "print('Used lag: %f' % adf_result[2])\n",
    "print('Number of observations: %f' % adf_result[3])\n",
    "print('Critical Values:')\n",
    "for key, value in adf_result[4].items():\n",
    "    print('\\t%s: %.3f' % (key, value))"
   ]
  },
  {
   "cell_type": "markdown",
   "metadata": {},
   "source": [
    "In the output above, we can see that ADF statistic value of `-0.850589` is greater than the value of `-3.433` at 1%. Besides, the p-value `0.803809` is greater than `0.05`. Both values support the null hypothesis, therefore price time series is not stationary."
   ]
  },
  {
   "cell_type": "markdown",
   "metadata": {},
   "source": [
    "## 2. Estimate `p` and `q` by plotting ACF and PACF\n",
    "\n",
    "Usually we use partial autocorrelation to estimate the order `p` of `AR(p)` model and use autocorrelation to estimate the order `q` of `MA(q)` model, so let's first plot ACF and PACF.\n",
    "\n",
    "Rules to identify the orders of AR or MA:\n",
    "\n",
    "* The lag beyond which the PACF cuts off is the indicated order of AR.\n",
    "* The lag beyond which the ACF cuts off is the indicated order of MA."
   ]
  },
  {
   "cell_type": "code",
   "execution_count": 10,
   "metadata": {},
   "outputs": [
    {
     "data": {
      "image/png": "[encoded data removed]",
      "text/plain": [
       "<Figure size 864x576 with 2 Axes>"
      ]
     },
     "metadata": {
      "needs_background": "light"
     },
     "output_type": "display_data"
    }
   ],
   "source": [
    "fig = plt.figure(figsize=(12,8))\n",
    "ax1 = fig.add_subplot(211)\n",
    "fig = sm.graphics.tsa.plot_pacf(prices, lags=20, zero=False, ax=ax1)\n",
    "ax2 = fig.add_subplot(212)\n",
    "fig = sm.graphics.tsa.plot_acf(prices.values.squeeze(), lags=20, zero=False, ax=ax2)"
   ]
  },
  {
   "cell_type": "markdown",
   "metadata": {},
   "source": [
    "* The PACF shuts off after lag 2.\n",
    "* The ACF shows significant autocorrelations even after lag 20.\n",
    "\n",
    "So we can tentatively set `p=2` and `q=10`."
   ]
  },
  {
   "cell_type": "markdown",
   "metadata": {},
   "source": [
    "## 3. Train the model"
   ]
  },
  {
   "cell_type": "code",
   "execution_count": 11,
   "metadata": {},
   "outputs": [],
   "source": [
    "# ValueWarning: A date index has been provided, but it has no associated frequency information\n",
    "prices.index = pd.DatetimeIndex(prices.index).to_period('T')"
   ]
  },
  {
   "cell_type": "code",
   "execution_count": 12,
   "metadata": {},
   "outputs": [],
   "source": [
    "# ar1_model = sm.tsa.arima.ARIMA(price_diffs, order=(1, 0, 0)).fit() # AR1\n",
    "# ma1_model = sm.tsa.arima.ARIMA(price_diffs, order=(0, 0, 1)).fit() # MA1\n",
    "arima_model = sm.tsa.arima.ARIMA(prices, order=(2, 1, 10)).fit()  # ARIMA(2,1,10)"
   ]
  },
  {
   "cell_type": "code",
   "execution_count": 13,
   "metadata": {},
   "outputs": [],
   "source": [
    "# arma_model.summary()"
   ]
  },
  {
   "cell_type": "code",
   "execution_count": 14,
   "metadata": {},
   "outputs": [
    {
     "name": "stdout",
     "output_type": "stream",
     "text": [
      "19307.58013329283 19384.779925457973 19335.44478781652\n"
     ]
    }
   ],
   "source": [
    "print(arima_model.aic, arima_model.bic, arima_model.hqic)"
   ]
  },
  {
   "cell_type": "code",
   "execution_count": 15,
   "metadata": {},
   "outputs": [
    {
     "name": "stdout",
     "output_type": "stream",
     "text": [
      "ar.L1      0.577209\n",
      "ar.L2     -0.933407\n",
      "ma.L1     -0.416978\n",
      "ma.L2      0.788670\n",
      "ma.L3      0.108518\n",
      "ma.L4     -0.024620\n",
      "ma.L5     -0.094991\n",
      "ma.L6     -0.012566\n",
      "ma.L7     -0.040853\n",
      "ma.L8     -0.005999\n",
      "ma.L9     -0.039929\n",
      "ma.L10     0.016603\n",
      "sigma2    55.522703\n",
      "dtype: float64\n"
     ]
    }
   ],
   "source": [
    "print(arima_model.params)"
   ]
  },
  {
   "cell_type": "markdown",
   "metadata": {},
   "source": [
    "## 4. How does our model fit the data?\n",
    "\n",
    "Let's do a white noise test on the residuals time series data. If the residuals are white noise, which means all information have been extracted sufficiently by the model."
   ]
  },
  {
   "cell_type": "markdown",
   "metadata": {},
   "source": [
    "### 4.1 Are there any autocorrelations in residuals?"
   ]
  },
  {
   "cell_type": "code",
   "execution_count": 16,
   "metadata": {},
   "outputs": [
    {
     "data": {
      "text/plain": [
       "1.0001026685404735"
      ]
     },
     "execution_count": 16,
     "metadata": {},
     "output_type": "execute_result"
    }
   ],
   "source": [
    "sm.stats.durbin_watson(arima_model.resid.values)"
   ]
  },
  {
   "cell_type": "markdown",
   "metadata": {},
   "source": [
    "The Durbin–Watson statistic is less than 2, which is evidence of positive serial correlation."
   ]
  },
  {
   "cell_type": "markdown",
   "metadata": {},
   "source": [
    "### 4.2 Plot ACF and PACF of residuals"
   ]
  },
  {
   "cell_type": "code",
   "execution_count": 17,
   "metadata": {},
   "outputs": [
    {
     "data": {
      "image/png": "[encoded data removed]",
      "text/plain": [
       "<Figure size 864x576 with 2 Axes>"
      ]
     },
     "metadata": {
      "needs_background": "light"
     },
     "output_type": "display_data"
    }
   ],
   "source": [
    "fig = plt.figure(figsize=(12,8))\n",
    "ax1 = fig.add_subplot(211)\n",
    "fig = sm.graphics.tsa.plot_acf(arima_model.resid.values.squeeze(), lags=40, zero=False, ax=ax1)\n",
    "ax2 = fig.add_subplot(212)\n",
    "fig = sm.graphics.tsa.plot_pacf(arima_model.resid, lags=40, zero=False, ax=ax2)"
   ]
  },
  {
   "cell_type": "markdown",
   "metadata": {},
   "source": [
    "The two figures above show that there are no autocorrelations at all lags, which means residuals are almost white noise, the model has extracted information sufficiently."
   ]
  },
  {
   "cell_type": "markdown",
   "metadata": {},
   "source": [
    "### 4.3 Ljung-Box test"
   ]
  },
  {
   "cell_type": "code",
   "execution_count": 18,
   "metadata": {},
   "outputs": [
    {
     "data": {
      "text/html": [
       "<div>\n",
       "<style scoped>\n",
       "    .dataframe tbody tr th:only-of-type {\n",
       "        vertical-align: middle;\n",
       "    }\n",
       "\n",
       "    .dataframe tbody tr th {\n",
       "        vertical-align: top;\n",
       "    }\n",
       "\n",
       "    .dataframe thead th {\n",
       "        text-align: right;\n",
       "    }\n",
       "</style>\n",
       "<table border=\"1\" class=\"dataframe\">\n",
       "  <thead>\n",
       "    <tr style=\"text-align: right;\">\n",
       "      <th></th>\n",
       "      <th>lb_stat</th>\n",
       "      <th>lb_pvalue</th>\n",
       "    </tr>\n",
       "  </thead>\n",
       "  <tbody>\n",
       "    <tr>\n",
       "      <th>1</th>\n",
       "      <td>0.002813</td>\n",
       "      <td>0.957699</td>\n",
       "    </tr>\n",
       "  </tbody>\n",
       "</table>\n",
       "</div>"
      ],
      "text/plain": [
       "    lb_stat  lb_pvalue\n",
       "1  0.002813   0.957699"
      ]
     },
     "execution_count": 18,
     "metadata": {},
     "output_type": "execute_result"
    }
   ],
   "source": [
    "sm.stats.acorr_ljungbox(arima_model.resid.values, lags=1, return_df=True)"
   ]
  },
  {
   "cell_type": "markdown",
   "metadata": {},
   "source": [
    "The p-value of Ljung-Box test is much greater than 0.05, which indicates that residuals are white noise."
   ]
  },
  {
   "cell_type": "markdown",
   "metadata": {},
   "source": [
    "**Conclusion: The residuals are white noise, which means our model fits the data quite well.**"
   ]
  },
  {
   "cell_type": "markdown",
   "metadata": {},
   "source": [
    "## 5. Plot predicted values"
   ]
  },
  {
   "cell_type": "code",
   "execution_count": 19,
   "metadata": {},
   "outputs": [],
   "source": [
    "predicted_prices = arima_model.predict(\n",
    "    start=1,\n",
    "    end=prices.shape[0],\n",
    "    dynamic=False,\n",
    ")"
   ]
  },
  {
   "cell_type": "code",
   "execution_count": 20,
   "metadata": {},
   "outputs": [
    {
     "data": {
      "text/plain": [
       "<matplotlib.axes._subplots.AxesSubplot at 0x7fa1c0031390>"
      ]
     },
     "execution_count": 20,
     "metadata": {},
     "output_type": "execute_result"
    },
    {
     "data": {
      "image/png": "[encoded data removed]",
      "text/plain": [
       "<Figure size 864x576 with 1 Axes>"
      ]
     },
     "metadata": {
      "needs_background": "light"
     },
     "output_type": "display_data"
    }
   ],
   "source": [
    "fig, ax = plt.subplots(figsize=(12, 8))\n",
    "prices.plot(ax=ax)\n",
    "predicted_prices.plot(ax=ax, style='r')"
   ]
  },
  {
   "cell_type": "markdown",
   "metadata": {},
   "source": [
    "## Lessions Learnt\n",
    "\n",
    "* <font color='red'>AR, MA, ARMA and ARIMA require time series data to have a constant time interval.</font> Only time bar can be used, tick bar, volume bar and dollar bar have no constant time intervals."
   ]
  },
  {
   "cell_type": "markdown",
   "metadata": {},
   "source": [
    "## References\n",
    "\n",
    "* [Everything you can do with a time series | Kaggle](https://www.kaggle.com/thebrownviking20/everything-you-can-do-with-a-time-series)\n",
    "* [Time Series Forecast Case Study with Python: Monthly Armed Robberies in Boston](https://machinelearningmastery.com/time-series-forecast-case-study-python-monthly-armed-robberies-boston/)\n",
    "* [How does ACF & PACF identify the order of MA and AR terms? - Cross Validated](https://stats.stackexchange.com/q/281666/21732)\n",
    "* [Rules for identifying ARIMA models](https://people.duke.edu/~rnau/arimrule.htm)\n",
    "* [Identifying the numbers of AR or MA terms in an ARIMA model](https://people.duke.edu/~rnau/411arim3.htm)\n",
    "* [forecasting - I'm not sure that statsmodels is predicting out-of-sample - Cross Validated](https://stats.stackexchange.com/q/76160/21732)\n",
    "* [statsmodels.tsa.arima.model.ARIMA](https://www.statsmodels.org/stable/generated/statsmodels.tsa.arima.model.ARIMA.html)\n",
    "* [How to Create an ARIMA Model for Time Series Forecasting in Python](https://machinelearningmastery.com/arima-for-time-series-forecasting-with-python/)\n",
    "* [How to Tune ARIMA Parameters in Python](https://machinelearningmastery.com/tune-arima-parameters-python/)\n",
    "* [How to Make Out-of-Sample Forecasts with ARIMA in Python](https://machinelearningmastery.com/make-sample-forecasts-arima-python/)\n",
    "* [Advanced Time Series Analysis with ARMA and ARIMA - Towards Data Science](https://towardsdatascience.com/advanced-time-series-analysis-with-arma-and-arima-a7d9b589ed6d)"
   ]
  }
 ],
 "metadata": {
  "kernelspec": {
   "display_name": "Python 3",
   "language": "python",
   "name": "python3"
  },
  "language_info": {
   "codemirror_mode": {
    "name": "ipython",
    "version": 3
   },
   "file_extension": ".py",
   "mimetype": "text/x-python",
   "name": "python",
   "nbconvert_exporter": "python",
   "pygments_lexer": "ipython3",
   "version": "3.7.6"
  }
 },
 "nbformat": 4,
 "nbformat_minor": 4
}
