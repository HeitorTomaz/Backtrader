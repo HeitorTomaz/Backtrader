{
 "cells": [
  {
   "cell_type": "markdown",
   "metadata": {},
   "source": [
    "# Calculate Other Bar Sizes Given a Fixed TimeBar Size\n",
    "\n",
    "In the time-bar-coverage-ratio.ipynb notebook we find that 4s time bars of BTC can cover above 95% trades and 8s time bars of ETH can cover above 95% trades. **So we're going to use 4s as BTC TimeBar size and 8s as ETH TimeBar size.** This notebook calculate bar sizes for TickBar, VolumeBar and DollarBar. \n",
    "\n",
    "* The TickBar size is calculated as `total number of trades / number of time bars`\n",
    "* The VolumeBar size is calculated as `Sum of Volume / number of time bars`\n",
    "* The DollarBar size is calculated as `Sum of USD Volume / number of time bars`"
   ]
  },
  {
   "cell_type": "code",
   "execution_count": 1,
   "metadata": {},
   "outputs": [],
   "source": [
    "import gc\n",
    "import glob\n",
    "import math\n",
    "import os\n",
    "from typing import Callable, Dict, List, Tuple\n",
    "\n",
    "import dask.bag as db\n",
    "import pandas as pd\n",
    "import seaborn as sns\n",
    "from dask.diagnostics import ProgressBar\n",
    "from matplotlib import pyplot as plt\n",
    "from scipy import stats"
   ]
  },
  {
   "cell_type": "markdown",
   "metadata": {},
   "source": [
    "## Read Trade Data"
   ]
  },
  {
   "cell_type": "code",
   "execution_count": 2,
   "metadata": {},
   "outputs": [],
   "source": [
    "# Trades are sorted by trade_id already(except BitMEX, which is sorted by timestamp)\n",
    "PER_TRADE_DATA_DIR = '/data/csv'"
   ]
  },
  {
   "cell_type": "code",
   "execution_count": 3,
   "metadata": {},
   "outputs": [],
   "source": [
    "BTC_PAIRS = [\n",
    "    ('Binance', 'Spot', 'BTC_USDT'),\n",
    "    ('Binance', 'Swap', 'BTC_USDT'),\n",
    "    ('BitMEX', 'Swap', 'BTC_USD'),\n",
    "    ('Huobi', 'Spot', 'BTC_USDT'),\n",
    "    ('Huobi', 'Swap', 'BTC_USD'),\n",
    "    ('OKEx', 'Spot', 'BTC_USDT'),\n",
    "    ('OKEx', 'Swap', 'BTC_USDT'),\n",
    "    ('OKEx', 'Swap', 'BTC_USD'),\n",
    "]\n",
    "\n",
    "ETH_PAIRS = [\n",
    "    ('Binance', 'Spot', 'ETH_USDT'),\n",
    "    ('Binance', 'Swap', 'ETH_USDT'),\n",
    "    ('BitMEX', 'Swap', 'ETH_USD'),\n",
    "    ('Huobi', 'Spot', 'ETH_USDT'),\n",
    "    ('Huobi', 'Swap', 'ETH_USD'),\n",
    "    ('OKEx', 'Spot', 'ETH_USDT'),\n",
    "    ('OKEx', 'Swap', 'ETH_USDT'),\n",
    "    ('OKEx', 'Swap', 'ETH_USD'),\n",
    "]"
   ]
  },
  {
   "cell_type": "code",
   "execution_count": 4,
   "metadata": {},
   "outputs": [],
   "source": [
    "BTC_TIME_BAR_SIZE = 4000\n",
    "ETH_TIME_BAR_SIZE = 8000"
   ]
  },
  {
   "cell_type": "code",
   "execution_count": 5,
   "metadata": {},
   "outputs": [],
   "source": [
    "def get_csv_file(exchange: str, market_type: str, pair: str)->str:\n",
    "    assert market_type == 'Spot' or market_type == 'Swap'\n",
    "    return os.path.join(PER_TRADE_DATA_DIR, f'{exchange}.{market_type}.{pair}.csv')"
   ]
  },
  {
   "cell_type": "code",
   "execution_count": 6,
   "metadata": {},
   "outputs": [
    {
     "data": {
      "text/plain": [
       "'/data/csv/Binance.Spot.BTC_USDT.csv'"
      ]
     },
     "execution_count": 6,
     "metadata": {},
     "output_type": "execute_result"
    }
   ],
   "source": [
    "get_csv_file(*BTC_PAIRS[0])"
   ]
  },
  {
   "cell_type": "code",
   "execution_count": 7,
   "metadata": {},
   "outputs": [
    {
     "data": {
      "text/plain": [
       "'/data/csv/OKEx.Swap.ETH_USD.csv'"
      ]
     },
     "execution_count": 7,
     "metadata": {},
     "output_type": "execute_result"
    }
   ],
   "source": [
    "get_csv_file(*ETH_PAIRS[-1])"
   ]
  },
  {
   "cell_type": "code",
   "execution_count": 8,
   "metadata": {},
   "outputs": [],
   "source": [
    "def read_csv(trade_csv_file: str)->pd.DataFrame:\n",
    "    df = pd.read_csv(trade_csv_file, engine='c',\n",
    "                     dtype={'exchange': 'category', 'marketType': 'category', 'pair': 'category',\n",
    "                            'timestamp': 'int64', 'price': 'float64',\n",
    "                            'quantity': 'float64', 'side': 'bool', 'trade_id': 'string'},\n",
    "                     usecols=['timestamp', 'price', 'quantity'])\n",
    "    return df"
   ]
  },
  {
   "cell_type": "code",
   "execution_count": 9,
   "metadata": {},
   "outputs": [],
   "source": [
    "okex_swap_eth_usd = read_csv(get_csv_file(*ETH_PAIRS[-1]))"
   ]
  },
  {
   "cell_type": "code",
   "execution_count": 10,
   "metadata": {},
   "outputs": [
    {
     "data": {
      "text/html": [
       "<div>\n",
       "<style scoped>\n",
       "    .dataframe tbody tr th:only-of-type {\n",
       "        vertical-align: middle;\n",
       "    }\n",
       "\n",
       "    .dataframe tbody tr th {\n",
       "        vertical-align: top;\n",
       "    }\n",
       "\n",
       "    .dataframe thead th {\n",
       "        text-align: right;\n",
       "    }\n",
       "</style>\n",
       "<table border=\"1\" class=\"dataframe\">\n",
       "  <thead>\n",
       "    <tr style=\"text-align: right;\">\n",
       "      <th></th>\n",
       "      <th>timestamp</th>\n",
       "      <th>price</th>\n",
       "      <th>quantity</th>\n",
       "    </tr>\n",
       "  </thead>\n",
       "  <tbody>\n",
       "    <tr>\n",
       "      <th>0</th>\n",
       "      <td>1588291218207</td>\n",
       "      <td>206.18</td>\n",
       "      <td>3.880105</td>\n",
       "    </tr>\n",
       "    <tr>\n",
       "      <th>1</th>\n",
       "      <td>1588291218207</td>\n",
       "      <td>206.18</td>\n",
       "      <td>2.134058</td>\n",
       "    </tr>\n",
       "    <tr>\n",
       "      <th>2</th>\n",
       "      <td>1588291218207</td>\n",
       "      <td>206.18</td>\n",
       "      <td>2.425065</td>\n",
       "    </tr>\n",
       "    <tr>\n",
       "      <th>3</th>\n",
       "      <td>1588291218207</td>\n",
       "      <td>206.15</td>\n",
       "      <td>2.279893</td>\n",
       "    </tr>\n",
       "    <tr>\n",
       "      <th>4</th>\n",
       "      <td>1588291218207</td>\n",
       "      <td>206.15</td>\n",
       "      <td>1.261218</td>\n",
       "    </tr>\n",
       "  </tbody>\n",
       "</table>\n",
       "</div>"
      ],
      "text/plain": [
       "       timestamp   price  quantity\n",
       "0  1588291218207  206.18  3.880105\n",
       "1  1588291218207  206.18  2.134058\n",
       "2  1588291218207  206.18  2.425065\n",
       "3  1588291218207  206.15  2.279893\n",
       "4  1588291218207  206.15  1.261218"
      ]
     },
     "execution_count": 10,
     "metadata": {},
     "output_type": "execute_result"
    }
   ],
   "source": [
    "okex_swap_eth_usd.head()"
   ]
  },
  {
   "cell_type": "markdown",
   "metadata": {},
   "source": [
    "## Calculate Number of Bars"
   ]
  },
  {
   "cell_type": "code",
   "execution_count": 11,
   "metadata": {},
   "outputs": [],
   "source": [
    "def calc_num_bars(input_csv_file: str, bar_type:str, bar_size: int)->int:\n",
    "    assert bar_type == 'TimeBar' or bar_type == 'TickBar' or bar_type == 'VolumeBar' or bar_type == 'DollarBar'\n",
    "    df = read_csv(input_csv_file)\n",
    "\n",
    "    if bar_type == 'TimeBar':\n",
    "        df['bar_index'] = df['timestamp'] // bar_size\n",
    "    elif bar_type == 'TickBar':\n",
    "        df['bar_index'] = (df.index // bar_size).to_series().reset_index(drop=True)\n",
    "    elif bar_type == 'VolumeBar':\n",
    "        df['bar_index'] = df['quantity'].astype('float64').cumsum().floordiv(bar_size).astype('uint32')\n",
    "    elif bar_type == 'DollarBar':\n",
    "        df['bar_index'] = (df['quantity'] * df['price']).astype('float64').cumsum().floordiv(bar_size).astype('uint32')\n",
    "\n",
    "    num_bars = df['bar_index'].nunique()  # df.groupby('bar_index').ngroups\n",
    "    del df\n",
    "    gc.collect()\n",
    "    return num_bars"
   ]
  },
  {
   "cell_type": "code",
   "execution_count": 12,
   "metadata": {},
   "outputs": [
    {
     "data": {
      "text/plain": [
       "750215"
      ]
     },
     "execution_count": 12,
     "metadata": {},
     "output_type": "execute_result"
    }
   ],
   "source": [
    "calc_num_bars(get_csv_file(*BTC_PAIRS[0]), 'TimeBar', 4000)"
   ]
  },
  {
   "cell_type": "markdown",
   "metadata": {},
   "source": [
    "## Calculate Other Bar Sizes Given a fixed TimeBar size"
   ]
  },
  {
   "cell_type": "code",
   "execution_count": 13,
   "metadata": {},
   "outputs": [],
   "source": [
    "def calc_bar_sizes(exchange: str, market_type: str, pair: str, time_bar_size: int)->Dict:\n",
    "    csv_file = get_csv_file(exchange, market_type, pair)\n",
    "    num_time_bars = calc_num_bars(csv_file, 'TimeBar', time_bar_size)\n",
    "\n",
    "    df = read_csv(csv_file)\n",
    "    tick_bar_size = df.shape[0] / num_time_bars\n",
    "    volume_bar_size = df['quantity'].sum() / num_time_bars\n",
    "    dollar_bar_size = (df['quantity'] * df['price']).sum() / num_time_bars\n",
    "\n",
    "    del df\n",
    "    gc.collect()\n",
    "    return {\n",
    "        'exchange': exchange, \n",
    "        'market_type': market_type, \n",
    "        'pair': pair,\n",
    "        'time_bar_size': time_bar_size,\n",
    "        'tick_bar_size': tick_bar_size,\n",
    "        'volume_bar_size': volume_bar_size,\n",
    "        'dollar_bar_size': dollar_bar_size,\n",
    "    }"
   ]
  },
  {
   "cell_type": "code",
   "execution_count": 14,
   "metadata": {},
   "outputs": [
    {
     "data": {
      "text/plain": [
       "{'exchange': 'Binance',\n",
       " 'market_type': 'Spot',\n",
       " 'pair': 'BTC_USDT',\n",
       " 'time_bar_size': 4000,\n",
       " 'tick_bar_size': 34.84456189225755,\n",
       " 'volume_bar_size': 3.7722689756163326,\n",
       " 'dollar_bar_size': 34991.182889387055}"
      ]
     },
     "execution_count": 14,
     "metadata": {},
     "output_type": "execute_result"
    }
   ],
   "source": [
    "calc_bar_sizes(*BTC_PAIRS[0], BTC_TIME_BAR_SIZE)"
   ]
  },
  {
   "cell_type": "code",
   "execution_count": 15,
   "metadata": {},
   "outputs": [],
   "source": [
    "def calc_bar_sizes_batch(exchange_market_pairs: List[Tuple[str, str, str]], time_bar_size: int)->pd.DataFrame:\n",
    "\n",
    "    with ProgressBar():\n",
    "        lst = db.from_sequence(exchange_market_pairs).map(lambda t: calc_bar_sizes(*t, time_bar_size)).compute()\n",
    "        return pd.DataFrame(lst)"
   ]
  },
  {
   "cell_type": "code",
   "execution_count": 16,
   "metadata": {},
   "outputs": [
    {
     "name": "stdout",
     "output_type": "stream",
     "text": [
      "[########################################] | 100% Completed | 24.5s\n"
     ]
    }
   ],
   "source": [
    "btc_bar_sizes_df = calc_bar_sizes_batch(BTC_PAIRS, BTC_TIME_BAR_SIZE)"
   ]
  },
  {
   "cell_type": "code",
   "execution_count": 17,
   "metadata": {},
   "outputs": [
    {
     "data": {
      "text/html": [
       "<div>\n",
       "<style scoped>\n",
       "    .dataframe tbody tr th:only-of-type {\n",
       "        vertical-align: middle;\n",
       "    }\n",
       "\n",
       "    .dataframe tbody tr th {\n",
       "        vertical-align: top;\n",
       "    }\n",
       "\n",
       "    .dataframe thead th {\n",
       "        text-align: right;\n",
       "    }\n",
       "</style>\n",
       "<table border=\"1\" class=\"dataframe\">\n",
       "  <thead>\n",
       "    <tr style=\"text-align: right;\">\n",
       "      <th></th>\n",
       "      <th>exchange</th>\n",
       "      <th>market_type</th>\n",
       "      <th>pair</th>\n",
       "      <th>time_bar_size</th>\n",
       "      <th>tick_bar_size</th>\n",
       "      <th>volume_bar_size</th>\n",
       "      <th>dollar_bar_size</th>\n",
       "    </tr>\n",
       "  </thead>\n",
       "  <tbody>\n",
       "    <tr>\n",
       "      <th>0</th>\n",
       "      <td>Binance</td>\n",
       "      <td>Spot</td>\n",
       "      <td>BTC_USDT</td>\n",
       "      <td>4000</td>\n",
       "      <td>34.844562</td>\n",
       "      <td>3.772269</td>\n",
       "      <td>34991.182889</td>\n",
       "    </tr>\n",
       "    <tr>\n",
       "      <th>1</th>\n",
       "      <td>Binance</td>\n",
       "      <td>Swap</td>\n",
       "      <td>BTC_USDT</td>\n",
       "      <td>4000</td>\n",
       "      <td>33.611422</td>\n",
       "      <td>17.373747</td>\n",
       "      <td>161001.409880</td>\n",
       "    </tr>\n",
       "    <tr>\n",
       "      <th>2</th>\n",
       "      <td>BitMEX</td>\n",
       "      <td>Swap</td>\n",
       "      <td>BTC_USD</td>\n",
       "      <td>4000</td>\n",
       "      <td>34.119584</td>\n",
       "      <td>12.093630</td>\n",
       "      <td>112079.639823</td>\n",
       "    </tr>\n",
       "    <tr>\n",
       "      <th>3</th>\n",
       "      <td>Huobi</td>\n",
       "      <td>Spot</td>\n",
       "      <td>BTC_USDT</td>\n",
       "      <td>4000</td>\n",
       "      <td>26.396362</td>\n",
       "      <td>2.388049</td>\n",
       "      <td>22187.847475</td>\n",
       "    </tr>\n",
       "    <tr>\n",
       "      <th>4</th>\n",
       "      <td>Huobi</td>\n",
       "      <td>Swap</td>\n",
       "      <td>BTC_USD</td>\n",
       "      <td>4000</td>\n",
       "      <td>28.493864</td>\n",
       "      <td>22.327544</td>\n",
       "      <td>206708.265216</td>\n",
       "    </tr>\n",
       "    <tr>\n",
       "      <th>5</th>\n",
       "      <td>OKEx</td>\n",
       "      <td>Spot</td>\n",
       "      <td>BTC_USDT</td>\n",
       "      <td>4000</td>\n",
       "      <td>31.980953</td>\n",
       "      <td>4.587918</td>\n",
       "      <td>42674.201193</td>\n",
       "    </tr>\n",
       "    <tr>\n",
       "      <th>6</th>\n",
       "      <td>OKEx</td>\n",
       "      <td>Swap</td>\n",
       "      <td>BTC_USDT</td>\n",
       "      <td>4000</td>\n",
       "      <td>12.571986</td>\n",
       "      <td>3.424178</td>\n",
       "      <td>31804.049356</td>\n",
       "    </tr>\n",
       "    <tr>\n",
       "      <th>7</th>\n",
       "      <td>OKEx</td>\n",
       "      <td>Swap</td>\n",
       "      <td>BTC_USD</td>\n",
       "      <td>4000</td>\n",
       "      <td>17.936789</td>\n",
       "      <td>4.061572</td>\n",
       "      <td>37683.871856</td>\n",
       "    </tr>\n",
       "  </tbody>\n",
       "</table>\n",
       "</div>"
      ],
      "text/plain": [
       "  exchange market_type      pair  time_bar_size  tick_bar_size  \\\n",
       "0  Binance        Spot  BTC_USDT           4000      34.844562   \n",
       "1  Binance        Swap  BTC_USDT           4000      33.611422   \n",
       "2   BitMEX        Swap   BTC_USD           4000      34.119584   \n",
       "3    Huobi        Spot  BTC_USDT           4000      26.396362   \n",
       "4    Huobi        Swap   BTC_USD           4000      28.493864   \n",
       "5     OKEx        Spot  BTC_USDT           4000      31.980953   \n",
       "6     OKEx        Swap  BTC_USDT           4000      12.571986   \n",
       "7     OKEx        Swap   BTC_USD           4000      17.936789   \n",
       "\n",
       "   volume_bar_size  dollar_bar_size  \n",
       "0         3.772269     34991.182889  \n",
       "1        17.373747    161001.409880  \n",
       "2        12.093630    112079.639823  \n",
       "3         2.388049     22187.847475  \n",
       "4        22.327544    206708.265216  \n",
       "5         4.587918     42674.201193  \n",
       "6         3.424178     31804.049356  \n",
       "7         4.061572     37683.871856  "
      ]
     },
     "execution_count": 17,
     "metadata": {},
     "output_type": "execute_result"
    }
   ],
   "source": [
    "btc_bar_sizes_df"
   ]
  },
  {
   "cell_type": "code",
   "execution_count": 18,
   "metadata": {},
   "outputs": [
    {
     "name": "stdout",
     "output_type": "stream",
     "text": [
      "[########################################] | 100% Completed | 10.2s\n"
     ]
    }
   ],
   "source": [
    "eth_bar_sizes_df = calc_bar_sizes_batch(ETH_PAIRS, ETH_TIME_BAR_SIZE)"
   ]
  },
  {
   "cell_type": "code",
   "execution_count": 19,
   "metadata": {},
   "outputs": [
    {
     "data": {
      "text/html": [
       "<div>\n",
       "<style scoped>\n",
       "    .dataframe tbody tr th:only-of-type {\n",
       "        vertical-align: middle;\n",
       "    }\n",
       "\n",
       "    .dataframe tbody tr th {\n",
       "        vertical-align: top;\n",
       "    }\n",
       "\n",
       "    .dataframe thead th {\n",
       "        text-align: right;\n",
       "    }\n",
       "</style>\n",
       "<table border=\"1\" class=\"dataframe\">\n",
       "  <thead>\n",
       "    <tr style=\"text-align: right;\">\n",
       "      <th></th>\n",
       "      <th>exchange</th>\n",
       "      <th>market_type</th>\n",
       "      <th>pair</th>\n",
       "      <th>time_bar_size</th>\n",
       "      <th>tick_bar_size</th>\n",
       "      <th>volume_bar_size</th>\n",
       "      <th>dollar_bar_size</th>\n",
       "    </tr>\n",
       "  </thead>\n",
       "  <tbody>\n",
       "    <tr>\n",
       "      <th>0</th>\n",
       "      <td>Binance</td>\n",
       "      <td>Spot</td>\n",
       "      <td>ETH_USDT</td>\n",
       "      <td>8000</td>\n",
       "      <td>18.002067</td>\n",
       "      <td>69.972778</td>\n",
       "      <td>14692.076916</td>\n",
       "    </tr>\n",
       "    <tr>\n",
       "      <th>1</th>\n",
       "      <td>Binance</td>\n",
       "      <td>Swap</td>\n",
       "      <td>ETH_USDT</td>\n",
       "      <td>8000</td>\n",
       "      <td>20.244162</td>\n",
       "      <td>143.411014</td>\n",
       "      <td>30306.774187</td>\n",
       "    </tr>\n",
       "    <tr>\n",
       "      <th>2</th>\n",
       "      <td>BitMEX</td>\n",
       "      <td>Swap</td>\n",
       "      <td>ETH_USD</td>\n",
       "      <td>8000</td>\n",
       "      <td>12.494811</td>\n",
       "      <td>141.442765</td>\n",
       "      <td>30016.888710</td>\n",
       "    </tr>\n",
       "    <tr>\n",
       "      <th>3</th>\n",
       "      <td>Huobi</td>\n",
       "      <td>Spot</td>\n",
       "      <td>ETH_USDT</td>\n",
       "      <td>8000</td>\n",
       "      <td>26.013492</td>\n",
       "      <td>69.137962</td>\n",
       "      <td>14665.322329</td>\n",
       "    </tr>\n",
       "    <tr>\n",
       "      <th>4</th>\n",
       "      <td>Huobi</td>\n",
       "      <td>Swap</td>\n",
       "      <td>ETH_USD</td>\n",
       "      <td>8000</td>\n",
       "      <td>32.312178</td>\n",
       "      <td>371.240306</td>\n",
       "      <td>77990.499777</td>\n",
       "    </tr>\n",
       "    <tr>\n",
       "      <th>5</th>\n",
       "      <td>OKEx</td>\n",
       "      <td>Spot</td>\n",
       "      <td>ETH_USDT</td>\n",
       "      <td>8000</td>\n",
       "      <td>22.110132</td>\n",
       "      <td>55.443811</td>\n",
       "      <td>11751.348980</td>\n",
       "    </tr>\n",
       "    <tr>\n",
       "      <th>6</th>\n",
       "      <td>OKEx</td>\n",
       "      <td>Swap</td>\n",
       "      <td>ETH_USDT</td>\n",
       "      <td>8000</td>\n",
       "      <td>7.382528</td>\n",
       "      <td>46.831136</td>\n",
       "      <td>9990.643317</td>\n",
       "    </tr>\n",
       "    <tr>\n",
       "      <th>7</th>\n",
       "      <td>OKEx</td>\n",
       "      <td>Swap</td>\n",
       "      <td>ETH_USD</td>\n",
       "      <td>8000</td>\n",
       "      <td>11.721034</td>\n",
       "      <td>64.297399</td>\n",
       "      <td>13545.915915</td>\n",
       "    </tr>\n",
       "  </tbody>\n",
       "</table>\n",
       "</div>"
      ],
      "text/plain": [
       "  exchange market_type      pair  time_bar_size  tick_bar_size  \\\n",
       "0  Binance        Spot  ETH_USDT           8000      18.002067   \n",
       "1  Binance        Swap  ETH_USDT           8000      20.244162   \n",
       "2   BitMEX        Swap   ETH_USD           8000      12.494811   \n",
       "3    Huobi        Spot  ETH_USDT           8000      26.013492   \n",
       "4    Huobi        Swap   ETH_USD           8000      32.312178   \n",
       "5     OKEx        Spot  ETH_USDT           8000      22.110132   \n",
       "6     OKEx        Swap  ETH_USDT           8000       7.382528   \n",
       "7     OKEx        Swap   ETH_USD           8000      11.721034   \n",
       "\n",
       "   volume_bar_size  dollar_bar_size  \n",
       "0        69.972778     14692.076916  \n",
       "1       143.411014     30306.774187  \n",
       "2       141.442765     30016.888710  \n",
       "3        69.137962     14665.322329  \n",
       "4       371.240306     77990.499777  \n",
       "5        55.443811     11751.348980  \n",
       "6        46.831136      9990.643317  \n",
       "7        64.297399     13545.915915  "
      ]
     },
     "execution_count": 19,
     "metadata": {},
     "output_type": "execute_result"
    }
   ],
   "source": [
    "eth_bar_sizes_df"
   ]
  },
  {
   "cell_type": "markdown",
   "metadata": {},
   "source": [
    "## Conclusion\n",
    "\n",
    "We're going to use the following bar sizes."
   ]
  },
  {
   "cell_type": "code",
   "execution_count": 20,
   "metadata": {},
   "outputs": [],
   "source": [
    "def prev_power_of_2(n: float):\n",
    "    '''Find the largest power of two less or equal than the number.'''\n",
    "    return int(math.pow(2, int(math.log(n, 2))))"
   ]
  },
  {
   "cell_type": "code",
   "execution_count": 21,
   "metadata": {},
   "outputs": [],
   "source": [
    "btc_bar_sizes_df['tick_bar_size'] = btc_bar_sizes_df['tick_bar_size'].apply(prev_power_of_2)\n",
    "btc_bar_sizes_df['volume_bar_size'] = btc_bar_sizes_df['volume_bar_size'].apply(prev_power_of_2)\n",
    "btc_bar_sizes_df['dollar_bar_size'] = btc_bar_sizes_df['dollar_bar_size'].apply(prev_power_of_2)"
   ]
  },
  {
   "cell_type": "code",
   "execution_count": 22,
   "metadata": {},
   "outputs": [
    {
     "data": {
      "text/html": [
       "<div>\n",
       "<style scoped>\n",
       "    .dataframe tbody tr th:only-of-type {\n",
       "        vertical-align: middle;\n",
       "    }\n",
       "\n",
       "    .dataframe tbody tr th {\n",
       "        vertical-align: top;\n",
       "    }\n",
       "\n",
       "    .dataframe thead th {\n",
       "        text-align: right;\n",
       "    }\n",
       "</style>\n",
       "<table border=\"1\" class=\"dataframe\">\n",
       "  <thead>\n",
       "    <tr style=\"text-align: right;\">\n",
       "      <th></th>\n",
       "      <th>exchange</th>\n",
       "      <th>market_type</th>\n",
       "      <th>pair</th>\n",
       "      <th>time_bar_size</th>\n",
       "      <th>tick_bar_size</th>\n",
       "      <th>volume_bar_size</th>\n",
       "      <th>dollar_bar_size</th>\n",
       "    </tr>\n",
       "  </thead>\n",
       "  <tbody>\n",
       "    <tr>\n",
       "      <th>0</th>\n",
       "      <td>Binance</td>\n",
       "      <td>Spot</td>\n",
       "      <td>BTC_USDT</td>\n",
       "      <td>4000</td>\n",
       "      <td>32</td>\n",
       "      <td>2</td>\n",
       "      <td>32768</td>\n",
       "    </tr>\n",
       "    <tr>\n",
       "      <th>1</th>\n",
       "      <td>Binance</td>\n",
       "      <td>Swap</td>\n",
       "      <td>BTC_USDT</td>\n",
       "      <td>4000</td>\n",
       "      <td>32</td>\n",
       "      <td>16</td>\n",
       "      <td>131072</td>\n",
       "    </tr>\n",
       "    <tr>\n",
       "      <th>2</th>\n",
       "      <td>BitMEX</td>\n",
       "      <td>Swap</td>\n",
       "      <td>BTC_USD</td>\n",
       "      <td>4000</td>\n",
       "      <td>32</td>\n",
       "      <td>8</td>\n",
       "      <td>65536</td>\n",
       "    </tr>\n",
       "    <tr>\n",
       "      <th>3</th>\n",
       "      <td>Huobi</td>\n",
       "      <td>Spot</td>\n",
       "      <td>BTC_USDT</td>\n",
       "      <td>4000</td>\n",
       "      <td>16</td>\n",
       "      <td>2</td>\n",
       "      <td>16384</td>\n",
       "    </tr>\n",
       "    <tr>\n",
       "      <th>4</th>\n",
       "      <td>Huobi</td>\n",
       "      <td>Swap</td>\n",
       "      <td>BTC_USD</td>\n",
       "      <td>4000</td>\n",
       "      <td>16</td>\n",
       "      <td>16</td>\n",
       "      <td>131072</td>\n",
       "    </tr>\n",
       "    <tr>\n",
       "      <th>5</th>\n",
       "      <td>OKEx</td>\n",
       "      <td>Spot</td>\n",
       "      <td>BTC_USDT</td>\n",
       "      <td>4000</td>\n",
       "      <td>16</td>\n",
       "      <td>4</td>\n",
       "      <td>32768</td>\n",
       "    </tr>\n",
       "    <tr>\n",
       "      <th>6</th>\n",
       "      <td>OKEx</td>\n",
       "      <td>Swap</td>\n",
       "      <td>BTC_USDT</td>\n",
       "      <td>4000</td>\n",
       "      <td>8</td>\n",
       "      <td>2</td>\n",
       "      <td>16384</td>\n",
       "    </tr>\n",
       "    <tr>\n",
       "      <th>7</th>\n",
       "      <td>OKEx</td>\n",
       "      <td>Swap</td>\n",
       "      <td>BTC_USD</td>\n",
       "      <td>4000</td>\n",
       "      <td>16</td>\n",
       "      <td>4</td>\n",
       "      <td>32768</td>\n",
       "    </tr>\n",
       "  </tbody>\n",
       "</table>\n",
       "</div>"
      ],
      "text/plain": [
       "  exchange market_type      pair  time_bar_size  tick_bar_size  \\\n",
       "0  Binance        Spot  BTC_USDT           4000             32   \n",
       "1  Binance        Swap  BTC_USDT           4000             32   \n",
       "2   BitMEX        Swap   BTC_USD           4000             32   \n",
       "3    Huobi        Spot  BTC_USDT           4000             16   \n",
       "4    Huobi        Swap   BTC_USD           4000             16   \n",
       "5     OKEx        Spot  BTC_USDT           4000             16   \n",
       "6     OKEx        Swap  BTC_USDT           4000              8   \n",
       "7     OKEx        Swap   BTC_USD           4000             16   \n",
       "\n",
       "   volume_bar_size  dollar_bar_size  \n",
       "0                2            32768  \n",
       "1               16           131072  \n",
       "2                8            65536  \n",
       "3                2            16384  \n",
       "4               16           131072  \n",
       "5                4            32768  \n",
       "6                2            16384  \n",
       "7                4            32768  "
      ]
     },
     "execution_count": 22,
     "metadata": {},
     "output_type": "execute_result"
    }
   ],
   "source": [
    "btc_bar_sizes_df"
   ]
  },
  {
   "cell_type": "code",
   "execution_count": 23,
   "metadata": {},
   "outputs": [],
   "source": [
    "eth_bar_sizes_df['tick_bar_size'] = eth_bar_sizes_df['tick_bar_size'].apply(prev_power_of_2)\n",
    "eth_bar_sizes_df['volume_bar_size'] = eth_bar_sizes_df['volume_bar_size'].apply(prev_power_of_2)\n",
    "eth_bar_sizes_df['dollar_bar_size'] = eth_bar_sizes_df['dollar_bar_size'].apply(prev_power_of_2)"
   ]
  },
  {
   "cell_type": "code",
   "execution_count": 24,
   "metadata": {},
   "outputs": [
    {
     "data": {
      "text/html": [
       "<div>\n",
       "<style scoped>\n",
       "    .dataframe tbody tr th:only-of-type {\n",
       "        vertical-align: middle;\n",
       "    }\n",
       "\n",
       "    .dataframe tbody tr th {\n",
       "        vertical-align: top;\n",
       "    }\n",
       "\n",
       "    .dataframe thead th {\n",
       "        text-align: right;\n",
       "    }\n",
       "</style>\n",
       "<table border=\"1\" class=\"dataframe\">\n",
       "  <thead>\n",
       "    <tr style=\"text-align: right;\">\n",
       "      <th></th>\n",
       "      <th>exchange</th>\n",
       "      <th>market_type</th>\n",
       "      <th>pair</th>\n",
       "      <th>time_bar_size</th>\n",
       "      <th>tick_bar_size</th>\n",
       "      <th>volume_bar_size</th>\n",
       "      <th>dollar_bar_size</th>\n",
       "    </tr>\n",
       "  </thead>\n",
       "  <tbody>\n",
       "    <tr>\n",
       "      <th>0</th>\n",
       "      <td>Binance</td>\n",
       "      <td>Spot</td>\n",
       "      <td>ETH_USDT</td>\n",
       "      <td>8000</td>\n",
       "      <td>16</td>\n",
       "      <td>64</td>\n",
       "      <td>8192</td>\n",
       "    </tr>\n",
       "    <tr>\n",
       "      <th>1</th>\n",
       "      <td>Binance</td>\n",
       "      <td>Swap</td>\n",
       "      <td>ETH_USDT</td>\n",
       "      <td>8000</td>\n",
       "      <td>16</td>\n",
       "      <td>128</td>\n",
       "      <td>16384</td>\n",
       "    </tr>\n",
       "    <tr>\n",
       "      <th>2</th>\n",
       "      <td>BitMEX</td>\n",
       "      <td>Swap</td>\n",
       "      <td>ETH_USD</td>\n",
       "      <td>8000</td>\n",
       "      <td>8</td>\n",
       "      <td>128</td>\n",
       "      <td>16384</td>\n",
       "    </tr>\n",
       "    <tr>\n",
       "      <th>3</th>\n",
       "      <td>Huobi</td>\n",
       "      <td>Spot</td>\n",
       "      <td>ETH_USDT</td>\n",
       "      <td>8000</td>\n",
       "      <td>16</td>\n",
       "      <td>64</td>\n",
       "      <td>8192</td>\n",
       "    </tr>\n",
       "    <tr>\n",
       "      <th>4</th>\n",
       "      <td>Huobi</td>\n",
       "      <td>Swap</td>\n",
       "      <td>ETH_USD</td>\n",
       "      <td>8000</td>\n",
       "      <td>32</td>\n",
       "      <td>256</td>\n",
       "      <td>65536</td>\n",
       "    </tr>\n",
       "    <tr>\n",
       "      <th>5</th>\n",
       "      <td>OKEx</td>\n",
       "      <td>Spot</td>\n",
       "      <td>ETH_USDT</td>\n",
       "      <td>8000</td>\n",
       "      <td>16</td>\n",
       "      <td>32</td>\n",
       "      <td>8192</td>\n",
       "    </tr>\n",
       "    <tr>\n",
       "      <th>6</th>\n",
       "      <td>OKEx</td>\n",
       "      <td>Swap</td>\n",
       "      <td>ETH_USDT</td>\n",
       "      <td>8000</td>\n",
       "      <td>4</td>\n",
       "      <td>32</td>\n",
       "      <td>8192</td>\n",
       "    </tr>\n",
       "    <tr>\n",
       "      <th>7</th>\n",
       "      <td>OKEx</td>\n",
       "      <td>Swap</td>\n",
       "      <td>ETH_USD</td>\n",
       "      <td>8000</td>\n",
       "      <td>8</td>\n",
       "      <td>64</td>\n",
       "      <td>8192</td>\n",
       "    </tr>\n",
       "  </tbody>\n",
       "</table>\n",
       "</div>"
      ],
      "text/plain": [
       "  exchange market_type      pair  time_bar_size  tick_bar_size  \\\n",
       "0  Binance        Spot  ETH_USDT           8000             16   \n",
       "1  Binance        Swap  ETH_USDT           8000             16   \n",
       "2   BitMEX        Swap   ETH_USD           8000              8   \n",
       "3    Huobi        Spot  ETH_USDT           8000             16   \n",
       "4    Huobi        Swap   ETH_USD           8000             32   \n",
       "5     OKEx        Spot  ETH_USDT           8000             16   \n",
       "6     OKEx        Swap  ETH_USDT           8000              4   \n",
       "7     OKEx        Swap   ETH_USD           8000              8   \n",
       "\n",
       "   volume_bar_size  dollar_bar_size  \n",
       "0               64             8192  \n",
       "1              128            16384  \n",
       "2              128            16384  \n",
       "3               64             8192  \n",
       "4              256            65536  \n",
       "5               32             8192  \n",
       "6               32             8192  \n",
       "7               64             8192  "
      ]
     },
     "execution_count": 24,
     "metadata": {},
     "output_type": "execute_result"
    }
   ],
   "source": [
    "eth_bar_sizes_df"
   ]
  }
 ],
 "metadata": {
  "kernelspec": {
   "display_name": "Python 3",
   "language": "python",
   "name": "python3"
  },
  "language_info": {
   "codemirror_mode": {
    "name": "ipython",
    "version": 3
   },
   "file_extension": ".py",
   "mimetype": "text/x-python",
   "name": "python",
   "nbconvert_exporter": "python",
   "pygments_lexer": "ipython3",
   "version": "3.7.6"
  }
 },
 "nbformat": 4,
 "nbformat_minor": 4
}
