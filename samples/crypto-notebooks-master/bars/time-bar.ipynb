{
 "cells": [
  {
   "cell_type": "markdown",
   "metadata": {},
   "source": [
    "# Time Bar"
   ]
  },
  {
   "cell_type": "code",
   "execution_count": 1,
   "metadata": {},
   "outputs": [],
   "source": [
    "import gc\n",
    "import glob\n",
    "import os\n",
    "from typing import Dict, List\n",
    "\n",
    "import dask.bag as db\n",
    "from dask.diagnostics import ProgressBar\n",
    "import numpy as np\n",
    "import pandas as pd"
   ]
  },
  {
   "cell_type": "code",
   "execution_count": 2,
   "metadata": {},
   "outputs": [
    {
     "name": "stderr",
     "output_type": "stream",
     "text": [
      "/opt/conda/lib/python3.7/site-packages/tqdm/std.py:668: FutureWarning: The Panel class is removed from pandas. Accessing it from the top-level namespace will also be removed in the next version\n",
      "  from pandas import Panel\n"
     ]
    }
   ],
   "source": [
    "from tqdm.notebook import tqdm\n",
    "tqdm.pandas()"
   ]
  },
  {
   "cell_type": "code",
   "execution_count": 3,
   "metadata": {},
   "outputs": [],
   "source": [
    "# from pandarallel import pandarallel\n",
    "# pandarallel.initialize()"
   ]
  },
  {
   "cell_type": "code",
   "execution_count": 4,
   "metadata": {},
   "outputs": [],
   "source": [
    "from utils import aggregate, aggregate_trade, convert_to_bar"
   ]
  },
  {
   "cell_type": "code",
   "execution_count": 5,
   "metadata": {},
   "outputs": [
    {
     "data": {
      "text/plain": [
       "{'open': 3, 'high': 6, 'low': 1, 'close': 6, 'mean': 3.5, 'median': 3.5}"
      ]
     },
     "execution_count": 5,
     "metadata": {},
     "output_type": "execute_result"
    }
   ],
   "source": [
    "aggregate(pd.Series([3,2,1,4,5,6]))"
   ]
  },
  {
   "cell_type": "code",
   "execution_count": 8,
   "metadata": {},
   "outputs": [],
   "source": [
    "def generate_time_bars(hdf_file: str, bar_size: np.int64, output_file: str)->None:\n",
    "    \"\"\"Build time bars.\n",
    "    Args:\n",
    "        df: per trade data.\n",
    "        bar_size: time bar size, in milliseconds.\n",
    "        output_dir: Output directory.\n",
    "    Returns:\n",
    "        Time bars.\n",
    "  \"\"\"\n",
    "    df = pd.read_hdf(hdf_file)\n",
    "    df['timestamp']=df['timestamp'].astype(np.int64) // int(1e6)\n",
    "    df['timestamp_begin']=df['timestamp'] // bar_size * bar_size\n",
    "    grouped = df.groupby('timestamp_begin')\n",
    "\n",
    "    series = grouped.apply(lambda df: convert_to_bar('TimeBar', bar_size, df))  # parallel_apply, from pandarallel\n",
    "    \n",
    "    del df\n",
    "    gc.collect()\n",
    "    \n",
    "    bars = pd.DataFrame(list(series))\n",
    "\n",
    "    os.makedirs(os.path.dirname(output_file), exist_ok=True)\n",
    "    bars.to_hdf(\n",
    "        output_file,\n",
    "        key=os.path.basename(output_file)[0:-len('.hdf5')].replace('.', '__'),\n",
    "        mode='w',\n",
    "        complevel=9)"
   ]
  },
  {
   "cell_type": "code",
   "execution_count": 9,
   "metadata": {},
   "outputs": [],
   "source": [
    "# generate_time_bars('/data/hdf5/OKEx.Swap.BTC_USDT.hdf5', 10000,\n",
    "#                    '/data/bars/TimeBar/10000/TimeBar.10000.OKEx.Swap.BTC_USDT.hdf5')"
   ]
  },
  {
   "cell_type": "code",
   "execution_count": 10,
   "metadata": {},
   "outputs": [],
   "source": [
    "def generate_multi(hdf5_files: List[str], bar_sizes: List[int], output_dir: str)->None:\n",
    "    file_bar_sizes = [(file, bar_size) for file in hdf5_files for bar_size in bar_sizes]\n",
    "    with ProgressBar():\n",
    "        db.from_sequence(file_bar_sizes).map(\n",
    "            lambda t: generate_time_bars(t[0], t[1], os.path.join(\n",
    "                output_dir, str(t[1]), f'TimeBar.{t[1]}.{os.path.basename(t[0])}'))).compute()"
   ]
  },
  {
   "cell_type": "code",
   "execution_count": 11,
   "metadata": {},
   "outputs": [],
   "source": [
    "hdf_files = glob.glob('/data/hdf5/*BTC_USD*.hdf5')"
   ]
  },
  {
   "cell_type": "code",
   "execution_count": 12,
   "metadata": {},
   "outputs": [
    {
     "data": {
      "text/plain": [
       "['/data/hdf5/OKEx.Swap.BTC_USD.hdf5',\n",
       " '/data/hdf5/Bitfinex.Spot.BTC_USDT.hdf5',\n",
       " '/data/hdf5/MXC.Spot.BTC_USDT.hdf5',\n",
       " '/data/hdf5/Huobi.Swap.BTC_USD.hdf5',\n",
       " '/data/hdf5/Newdex.Spot.BTC_USDT.hdf5',\n",
       " '/data/hdf5/Bitfinex.Swap.BTC_USDT.hdf5',\n",
       " '/data/hdf5/WhaleEx.Spot.BTC_USDT.hdf5',\n",
       " '/data/hdf5/Binance.Spot.BTC_USDT.hdf5',\n",
       " '/data/hdf5/Binance.Swap.BTC_USDT.hdf5',\n",
       " '/data/hdf5/OKEx.Spot.BTC_USDT.hdf5',\n",
       " '/data/hdf5/Bitfinex.Spot.BTC_USD.hdf5',\n",
       " '/data/hdf5/Huobi.Spot.BTC_USDT.hdf5',\n",
       " '/data/hdf5/CoinbasePro.Spot.BTC_USD.hdf5',\n",
       " '/data/hdf5/Bitstamp.Spot.BTC_USD.hdf5',\n",
       " '/data/hdf5/BitMEX.Swap.BTC_USD.hdf5',\n",
       " '/data/hdf5/OKEx.Swap.BTC_USDT.hdf5',\n",
       " '/data/hdf5/Kraken.Spot.BTC_USDT.hdf5',\n",
       " '/data/hdf5/Kraken.Spot.BTC_USD.hdf5']"
      ]
     },
     "execution_count": 12,
     "metadata": {},
     "output_type": "execute_result"
    }
   ],
   "source": [
    "hdf_files"
   ]
  },
  {
   "cell_type": "code",
   "execution_count": 13,
   "metadata": {},
   "outputs": [
    {
     "name": "stdout",
     "output_type": "stream",
     "text": [
      "[########################################] | 100% Completed | 28min  1.1s\n"
     ]
    }
   ],
   "source": [
    "generate_multi(\n",
    "    hdf_files,\n",
    "    list(map(lambda x: x* 1000, [10, 60, 180, 300, 900, 1800, 3600, 14400])),\n",
    "    '/data/bars/TimeBar',\n",
    ")"
   ]
  },
  {
   "cell_type": "markdown",
   "metadata": {},
   "source": [
    "## References\n",
    "\n",
    "* [Tick, Volume, Dollar Volume Bars.ipynb](https://github.com/BlackArbsCEO/Adv_Fin_ML_Exercises/blob/master/notebooks/Tick%2C%20Volume%2C%20Dollar%20Volume%20Bars.ipynb)"
   ]
  },
  {
   "cell_type": "code",
   "execution_count": null,
   "metadata": {},
   "outputs": [],
   "source": []
  }
 ],
 "metadata": {
  "kernelspec": {
   "display_name": "Python 3",
   "language": "python",
   "name": "python3"
  },
  "language_info": {
   "codemirror_mode": {
    "name": "ipython",
    "version": 3
   },
   "file_extension": ".py",
   "mimetype": "text/x-python",
   "name": "python",
   "nbconvert_exporter": "python",
   "pygments_lexer": "ipython3",
   "version": "3.7.6"
  }
 },
 "nbformat": 4,
 "nbformat_minor": 4
}
