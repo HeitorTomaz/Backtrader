{
 "cells": [
  {
   "cell_type": "markdown",
   "metadata": {},
   "source": [
    "# Tick Bar, Volume Bar and Dollar Bar"
   ]
  },
  {
   "cell_type": "code",
   "execution_count": 1,
   "metadata": {},
   "outputs": [],
   "source": [
    "import gc\n",
    "import glob\n",
    "import os\n",
    "from typing import Dict, List\n",
    "\n",
    "import dask.bag as db\n",
    "import numpy as np\n",
    "import pandas as pd\n",
    "from dask.diagnostics import ProgressBar"
   ]
  },
  {
   "cell_type": "code",
   "execution_count": 2,
   "metadata": {},
   "outputs": [
    {
     "name": "stderr",
     "output_type": "stream",
     "text": [
      "/opt/conda/lib/python3.7/site-packages/tqdm/std.py:668: FutureWarning: The Panel class is removed from pandas. Accessing it from the top-level namespace will also be removed in the next version\n",
      "  from pandas import Panel\n"
     ]
    }
   ],
   "source": [
    "from tqdm.notebook import tqdm\n",
    "tqdm.pandas()"
   ]
  },
  {
   "cell_type": "code",
   "execution_count": 3,
   "metadata": {},
   "outputs": [],
   "source": [
    "from utils import aggregate, aggregate_trade, convert_to_bar"
   ]
  },
  {
   "cell_type": "code",
   "execution_count": 4,
   "metadata": {},
   "outputs": [
    {
     "data": {
      "text/plain": [
       "{'open': 3, 'high': 6, 'low': 1, 'close': 6, 'mean': 3.5, 'median': 3.5}"
      ]
     },
     "execution_count": 4,
     "metadata": {},
     "output_type": "execute_result"
    }
   ],
   "source": [
    "aggregate(pd.Series([3,2,1,4,5,6]))"
   ]
  },
  {
   "cell_type": "markdown",
   "metadata": {},
   "source": [
    "## Tick Bar"
   ]
  },
  {
   "cell_type": "code",
   "execution_count": 7,
   "metadata": {},
   "outputs": [],
   "source": [
    "def generate_volume_bars(hdf_file: str, bar_type: str, bar_size: np.int64, output_file: str)->None:\n",
    "    \"\"\"Build time bars.\n",
    "    Args:\n",
    "        hdf_file: The input hDF5 file.\n",
    "        bar_type: Bar type, one of TickBar, VolumeBar or DollarBar\n",
    "        bar_size: Bar size, number of ticks, volume or dollar.\n",
    "\n",
    "    Returns:\n",
    "        Time bars.\n",
    "  \"\"\"\n",
    "    assert bar_type == 'TickBar' or bar_type == 'VolumeBar' or bar_type == 'DollarBar'\n",
    "    df = pd.read_hdf(hdf_file)\n",
    "    df['timestamp']=df['timestamp'].astype(np.int64) // int(1e6)\n",
    "\n",
    "    cur = 0\n",
    "    trade_msges = []\n",
    "    bars = []\n",
    "\n",
    "    for index, row in tqdm(df.iterrows(), total=df.shape[0]):\n",
    "        trade_msges.append(row)\n",
    "\n",
    "        if bar_type == 'TickBar':\n",
    "            cur += 1\n",
    "        elif bar_type == 'VolumeBar':\n",
    "            cur += row['quantity']\n",
    "        elif bar_type == 'DollarBar':\n",
    "            cur += row['quantity'] * row['price']\n",
    "        else:\n",
    "            raise ValueError(f'Unknown bar_type: {bar_type}')\n",
    "        \n",
    "        if cur >= bar_size:\n",
    "            if len(trade_msges) <= 0:\n",
    "                continue\n",
    "            bar = convert_to_bar(bar_type, bar_size, pd.DataFrame(trade_msges))\n",
    "            bars.append(bar)\n",
    "            # reset\n",
    "            cur = 0\n",
    "            trade_msges = []\n",
    "\n",
    "    bars_df = pd.DataFrame(bars)\n",
    "    del df\n",
    "    del bars\n",
    "    gc.collect()\n",
    "\n",
    "    os.makedirs(os.path.dirname(output_file), exist_ok=True)\n",
    "    bars_df.to_hdf(\n",
    "        output_file,\n",
    "        key=os.path.basename(output_file)[0:-len('.hdf5')].replace('.', '__'),\n",
    "        mode='w',\n",
    "        complevel=9)"
   ]
  },
  {
   "cell_type": "code",
   "execution_count": 8,
   "metadata": {},
   "outputs": [
    {
     "data": {
      "application/vnd.jupyter.widget-view+json": {
       "model_id": "87711324119d4c52a1aec1edec8a8d6d",
       "version_major": 2,
       "version_minor": 0
      },
      "text/plain": [
       "HBox(children=(FloatProgress(value=0.0, max=413724.0), HTML(value='')))"
      ]
     },
     "metadata": {},
     "output_type": "display_data"
    },
    {
     "name": "stdout",
     "output_type": "stream",
     "text": [
      "\n"
     ]
    }
   ],
   "source": [
    "generate_volume_bars('/data/hdf5/OKEx.Spot.XMR_USDT.hdf5', 'TickBar', 64, '/data/bars/TickBar/64/TickBar.64.OKEx.Spot.XMR_USDT.hdf5')"
   ]
  },
  {
   "cell_type": "code",
   "execution_count": 9,
   "metadata": {},
   "outputs": [],
   "source": [
    "def generate_multi(hdf5_files: List[str], bar_type: str, bar_sizes: List[int], output_dir: str)->None:\n",
    "    file_bar_sizes = [(file, bar_size) for file in hdf5_files for bar_size in bar_sizes]\n",
    "    with ProgressBar():\n",
    "        db.from_sequence(file_bar_sizes).map(\n",
    "            lambda t: generate_volume_bars(t[0], bar_type, t[1], os.path.join(\n",
    "                output_dir, str(t[1]), f'{bar_type}.{t[1]}.{os.path.basename(t[0])}'))).compute()"
   ]
  },
  {
   "cell_type": "code",
   "execution_count": 10,
   "metadata": {},
   "outputs": [],
   "source": [
    "hdf_files = glob.glob('/data/hdf5/*XMR_USD*.hdf5')"
   ]
  },
  {
   "cell_type": "code",
   "execution_count": 11,
   "metadata": {},
   "outputs": [
    {
     "data": {
      "text/plain": [
       "['/data/hdf5/OKEx.Swap.XMR_USDT.hdf5',\n",
       " '/data/hdf5/MXC.Spot.XMR_USDT.hdf5',\n",
       " '/data/hdf5/Kraken.Spot.XMR_USD.hdf5',\n",
       " '/data/hdf5/Bitfinex.Spot.XMR_USD.hdf5',\n",
       " '/data/hdf5/Huobi.Spot.XMR_USDT.hdf5',\n",
       " '/data/hdf5/OKEx.Spot.XMR_USDT.hdf5',\n",
       " '/data/hdf5/Binance.Swap.XMR_USDT.hdf5',\n",
       " '/data/hdf5/OKEx.Swap.XMR_USD.hdf5',\n",
       " '/data/hdf5/Binance.Spot.XMR_USDT.hdf5']"
      ]
     },
     "execution_count": 11,
     "metadata": {},
     "output_type": "execute_result"
    }
   ],
   "source": [
    "hdf_files"
   ]
  },
  {
   "cell_type": "code",
   "execution_count": 12,
   "metadata": {},
   "outputs": [
    {
     "name": "stdout",
     "output_type": "stream",
     "text": [
      "[########################################] | 100% Completed | 16min 28.0s\n"
     ]
    }
   ],
   "source": [
    "generate_multi(\n",
    "    hdf_files,\n",
    "    'TickBar',\n",
    "    [4, 8, 16, 32, 64, 128, 50, 100, 200, 500, 1000],\n",
    "    '/data/bars/TickBar',\n",
    ")"
   ]
  },
  {
   "cell_type": "markdown",
   "metadata": {},
   "source": [
    "## References\n",
    "\n",
    "* [Tick, Volume, Dollar Volume Bars.ipynb](https://github.com/BlackArbsCEO/Adv_Fin_ML_Exercises/blob/master/notebooks/Tick%2C%20Volume%2C%20Dollar%20Volume%20Bars.ipynb)"
   ]
  },
  {
   "cell_type": "code",
   "execution_count": null,
   "metadata": {},
   "outputs": [],
   "source": []
  }
 ],
 "metadata": {
  "kernelspec": {
   "display_name": "Python 3",
   "language": "python",
   "name": "python3"
  },
  "language_info": {
   "codemirror_mode": {
    "name": "ipython",
    "version": 3
   },
   "file_extension": ".py",
   "mimetype": "text/x-python",
   "name": "python",
   "nbconvert_exporter": "python",
   "pygments_lexer": "ipython3",
   "version": "3.7.6"
  }
 },
 "nbformat": 4,
 "nbformat_minor": 4
}
