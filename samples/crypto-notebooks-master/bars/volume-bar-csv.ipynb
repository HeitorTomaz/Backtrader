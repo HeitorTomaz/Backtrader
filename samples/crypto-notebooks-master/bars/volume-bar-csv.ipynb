{
 "cells": [
  {
   "cell_type": "markdown",
   "metadata": {},
   "source": [
    "# Tick Bar, Volume Bar and Dollar Bar"
   ]
  },
  {
   "cell_type": "code",
   "execution_count": 2,
   "metadata": {},
   "outputs": [],
   "source": [
    "import gc\n",
    "import glob\n",
    "import os\n",
    "from operator import itemgetter\n",
    "from typing import Dict, List, Tuple\n",
    "\n",
    "import dask.bag as db\n",
    "import numpy as np\n",
    "import pandas as pd\n",
    "from dask.diagnostics import ProgressBar"
   ]
  },
  {
   "cell_type": "code",
   "execution_count": 3,
   "metadata": {},
   "outputs": [
    {
     "name": "stderr",
     "output_type": "stream",
     "text": [
      "/home/frankdai/anaconda3/lib/python3.7/site-packages/tqdm/std.py:658: FutureWarning: The Panel class is removed from pandas. Accessing it from the top-level namespace will also be removed in the next version\n",
      "  from pandas import Panel\n"
     ]
    }
   ],
   "source": [
    "from tqdm.notebook import tqdm\n",
    "tqdm.pandas()"
   ]
  },
  {
   "cell_type": "code",
   "execution_count": 4,
   "metadata": {},
   "outputs": [],
   "source": [
    "from utils import aggregate, aggregate_trade, convert_to_bar"
   ]
  },
  {
   "cell_type": "code",
   "execution_count": 5,
   "metadata": {},
   "outputs": [
    {
     "data": {
      "text/plain": [
       "{'open': 3, 'high': 6, 'low': 1, 'close': 6, 'mean': 3.5, 'median': 3.5}"
      ]
     },
     "execution_count": 5,
     "metadata": {},
     "output_type": "execute_result"
    }
   ],
   "source": [
    "aggregate(pd.Series([3,2,1,4,5,6]))"
   ]
  },
  {
   "cell_type": "markdown",
   "metadata": {},
   "source": [
    "## Tick Bar"
   ]
  },
  {
   "cell_type": "code",
   "execution_count": 6,
   "metadata": {},
   "outputs": [],
   "source": [
    "def generate_volume_bars(input_csv_file: str, bar_type: str, bar_size: np.int64, output_csv_file: str)->None:\n",
    "    \"\"\"Build time bars.\n",
    "    Args:\n",
    "        input_csv_file: The input CSV file.\n",
    "        bar_type: Bar type, one of TickBar, VolumeBar or DollarBar\n",
    "        bar_size: Bar size, number of ticks, volume or dollar.\n",
    "        output_csv_file: The output CSV file.\n",
    "\n",
    "    Returns:\n",
    "        None.\n",
    "  \"\"\"\n",
    "    assert bar_type == 'TickBar' or bar_type == 'VolumeBar' or bar_type == 'DollarBar'\n",
    "\n",
    "    cur = 0\n",
    "    trade_msges = []\n",
    "    bars = []\n",
    "\n",
    "    for chunk in pd.read_csv(input_csv_file, chunksize=8192*32):\n",
    "        for index, row in chunk.iterrows():\n",
    "            trade_msges.append(row)\n",
    "\n",
    "            if bar_type == 'TickBar':\n",
    "                cur += 1\n",
    "            elif bar_type == 'VolumeBar':\n",
    "                cur += row['quantity']\n",
    "            elif bar_type == 'DollarBar':\n",
    "                cur += row['quantity'] * row['price']\n",
    "            else:\n",
    "                raise ValueError(f'Unknown bar_type: {bar_type}')\n",
    "\n",
    "            if cur >= bar_size:\n",
    "                if len(trade_msges) <= 0:\n",
    "                    continue\n",
    "                bar = convert_to_bar(bar_type, bar_size, pd.DataFrame(trade_msges))\n",
    "                bars.append(bar)\n",
    "                # reset\n",
    "                cur = 0\n",
    "                trade_msges = []\n",
    "\n",
    "    bars_df = pd.DataFrame(bars)\n",
    "    os.makedirs(os.path.dirname(output_csv_file), exist_ok=True)\n",
    "    bars_df.to_csv(output_csv_file, index=False)\n",
    "    # optional\n",
    "    del bars_df\n",
    "    del bars\n",
    "    gc.collect()"
   ]
  },
  {
   "cell_type": "code",
   "execution_count": 7,
   "metadata": {},
   "outputs": [],
   "source": [
    "generate_volume_bars('/data/csv/OKEx.Swap.XMR_USDT.csv', 'TickBar', 64, '/data/bars/TickBar/64/TickBar.64.OKEx.Spot.XMR_USDT.csv')"
   ]
  },
  {
   "cell_type": "code",
   "execution_count": 9,
   "metadata": {},
   "outputs": [],
   "source": [
    "def generate_tasks(csv_files: List[str], bar_type: str, bar_sizes: List[int], output_dir: str)->List[Tuple[str, str, int, str]]:\n",
    "    tasks = [(file, bar_type, bar_size, os.path.join(output_dir, str(bar_size),f'{bar_type}.{bar_size}.{os.path.basename(file)}'))\n",
    "             for file in csv_files for bar_size in bar_sizes]\n",
    "    return tasks"
   ]
  },
  {
   "cell_type": "code",
   "execution_count": 16,
   "metadata": {},
   "outputs": [],
   "source": [
    "def generate_parallell(tasks: List[Tuple[str, str, int, str]])->None:\n",
    "    with ProgressBar():\n",
    "        db.from_sequence(tasks).map(lambda t: generate_volume_bars(t[0], t[1], t[2], t[3])).compute()"
   ]
  },
  {
   "cell_type": "code",
   "execution_count": 18,
   "metadata": {},
   "outputs": [],
   "source": [
    "csv_files = glob.glob('/data/csv/*XMR_USD*.csv')"
   ]
  },
  {
   "cell_type": "code",
   "execution_count": 19,
   "metadata": {},
   "outputs": [
    {
     "data": {
      "text/plain": [
       "['/data/csv/MXC.Spot.XMR_USDT.csv',\n",
       " '/data/csv/Binance.Swap.XMR_USDT.csv',\n",
       " '/data/csv/OKEx.Swap.XMR_USDT.csv',\n",
       " '/data/csv/Binance.Spot.XMR_USDT.csv',\n",
       " '/data/csv/Kraken.Spot.XMR_USD.csv',\n",
       " '/data/csv/Bitfinex.Spot.XMR_USD.csv',\n",
       " '/data/csv/OKEx.Spot.XMR_USDT.csv',\n",
       " '/data/csv/OKEx.Swap.XMR_USD.csv',\n",
       " '/data/csv/Huobi.Spot.XMR_USDT.csv']"
      ]
     },
     "execution_count": 19,
     "metadata": {},
     "output_type": "execute_result"
    }
   ],
   "source": [
    "csv_files"
   ]
  },
  {
   "cell_type": "code",
   "execution_count": 20,
   "metadata": {},
   "outputs": [],
   "source": [
    "tasks = generate_tasks(\n",
    "    csv_files,\n",
    "    'TickBar',\n",
    "    [4, 8, 16, 32, 64, 128, 50, 100, 200, 500, 1000],\n",
    "    '/data/bars/TickBar',\n",
    ")"
   ]
  },
  {
   "cell_type": "code",
   "execution_count": 21,
   "metadata": {},
   "outputs": [
    {
     "name": "stdout",
     "output_type": "stream",
     "text": [
      "[########################################] | 100% Completed | 15min 29.2s\n"
     ]
    }
   ],
   "source": [
    "generate_parallell(tasks)"
   ]
  },
  {
   "cell_type": "markdown",
   "metadata": {},
   "source": [
    "## References\n",
    "\n",
    "* [Tick, Volume, Dollar Volume Bars.ipynb](https://github.com/BlackArbsCEO/Adv_Fin_ML_Exercises/blob/master/notebooks/Tick%2C%20Volume%2C%20Dollar%20Volume%20Bars.ipynb)"
   ]
  }
 ],
 "metadata": {
  "kernelspec": {
   "display_name": "Python 3",
   "language": "python",
   "name": "python3"
  },
  "language_info": {
   "codemirror_mode": {
    "name": "ipython",
    "version": 3
   },
   "file_extension": ".py",
   "mimetype": "text/x-python",
   "name": "python",
   "nbconvert_exporter": "python",
   "pygments_lexer": "ipython3",
   "version": "3.7.6"
  }
 },
 "nbformat": 4,
 "nbformat_minor": 4
}
