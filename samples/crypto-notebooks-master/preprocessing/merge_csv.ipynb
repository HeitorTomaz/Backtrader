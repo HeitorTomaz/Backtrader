{
 "cells": [
  {
   "cell_type": "markdown",
   "metadata": {},
   "source": [
    "# Merge CSV Files\n",
    "\n",
    "Merge monthly CSV files into a single CSV file."
   ]
  },
  {
   "cell_type": "code",
   "execution_count": 1,
   "metadata": {},
   "outputs": [],
   "source": [
    "import glob\n",
    "import os\n",
    "from typing import List\n",
    "\n",
    "from tqdm.notebook import tqdm"
   ]
  },
  {
   "cell_type": "code",
   "execution_count": 2,
   "metadata": {},
   "outputs": [],
   "source": [
    "TRADE_DATA_DIR = '/data/csv'\n",
    "MERGED_TRADE_DIR = '/data/merged_csv'"
   ]
  },
  {
   "cell_type": "code",
   "execution_count": 3,
   "metadata": {},
   "outputs": [
    {
     "name": "stdout",
     "output_type": "stream",
     "text": [
      "trade-2020-05  trade-2020-06  trade-2020-07\n"
     ]
    }
   ],
   "source": [
    "!ls /data/csv"
   ]
  },
  {
   "cell_type": "code",
   "execution_count": 4,
   "metadata": {},
   "outputs": [],
   "source": [
    "def merge_csv_files(csv_files: List[str], output_csv: str)->None:\n",
    "    csv_files = sorted(csv_files)\n",
    "\n",
    "    header_saved = False\n",
    "    with open(output_csv, mode='wt', encoding='utf-8') as fout:\n",
    "        for fname in csv_files:\n",
    "            with open(fname, mode='rt', encoding='utf-8') as fin:\n",
    "                header =  next(fin)\n",
    "                if not header_saved:\n",
    "                    fout.write(header)\n",
    "                    header_saved = True\n",
    "                for line in fin:\n",
    "                    fout.write(line)"
   ]
  },
  {
   "cell_type": "code",
   "execution_count": 7,
   "metadata": {},
   "outputs": [],
   "source": [
    "# merge_csv_files(csv_files, f'{MERGED_TRADE_DIR}/OKEx.Swap.BTC_USDT.csv')"
   ]
  },
  {
   "cell_type": "code",
   "execution_count": 8,
   "metadata": {},
   "outputs": [],
   "source": [
    "def merge_all():\n",
    "    exchange_market_pair_set = set([os.path.basename(file)[0:-len('.2020-06.csv')] for file in glob.glob(f'{TRADE_DATA_DIR}/**/*.csv')])\n",
    "    for exchange_market_pair in tqdm(exchange_market_pair_set):\n",
    "        csv_files = glob.glob(f'{TRADE_DATA_DIR}/*/{exchange_market_pair}.*.csv')\n",
    "        merge_csv_files(csv_files, f'{MERGED_TRADE_DIR}/{exchange_market_pair}.csv')"
   ]
  },
  {
   "cell_type": "code",
   "execution_count": 9,
   "metadata": {},
   "outputs": [
    {
     "data": {
      "application/vnd.jupyter.widget-view+json": {
       "model_id": "74bdf733b8714fb6867a532d5b5af8fc",
       "version_major": 2,
       "version_minor": 0
      },
      "text/plain": [
       "HBox(children=(FloatProgress(value=0.0, max=314.0), HTML(value='')))"
      ]
     },
     "metadata": {},
     "output_type": "display_data"
    },
    {
     "name": "stdout",
     "output_type": "stream",
     "text": [
      "\n"
     ]
    }
   ],
   "source": [
    "merge_all()"
   ]
  }
 ],
 "metadata": {
  "kernelspec": {
   "display_name": "Python 3",
   "language": "python",
   "name": "python3"
  },
  "language_info": {
   "codemirror_mode": {
    "name": "ipython",
    "version": 3
   },
   "file_extension": ".py",
   "mimetype": "text/x-python",
   "name": "python",
   "nbconvert_exporter": "python",
   "pygments_lexer": "ipython3",
   "version": "3.7.6"
  }
 },
 "nbformat": 4,
 "nbformat_minor": 4
}
