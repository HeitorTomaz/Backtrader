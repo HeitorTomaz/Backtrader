{
 "cells": [
  {
   "cell_type": "markdown",
   "metadata": {},
   "source": [
    "# Convert CSV to Vaex HDF5 format(column based HDF5)"
   ]
  },
  {
   "cell_type": "markdown",
   "metadata": {},
   "source": [
    "**Hardware:** n1-highmem-32, 32 vCPUs, 208 GB memory, 1TB SSD"
   ]
  },
  {
   "cell_type": "code",
   "execution_count": 1,
   "metadata": {},
   "outputs": [],
   "source": [
    "import gc\n",
    "import os\n",
    "\n",
    "import dask.bag as db\n",
    "import pandas as pd\n",
    "import vaex\n",
    "from dask.diagnostics import ProgressBar"
   ]
  },
  {
   "cell_type": "code",
   "execution_count": 2,
   "metadata": {},
   "outputs": [],
   "source": [
    "CSV_DIR = '/data/csv'\n",
    "VAEX_HDF5_DIR = '/data/vaex-hdf5'"
   ]
  },
  {
   "cell_type": "code",
   "execution_count": 3,
   "metadata": {},
   "outputs": [],
   "source": [
    "def csv_to_vaex_hdf5(csv_file: str, hdf5_file: str)->None:\n",
    "    assert csv_file.endswith('.csv.zip')\n",
    "    assert hdf5_file.endswith('.hdf5')\n",
    "    df = vaex.read_csv(csv_file)\n",
    "    df.export_hdf5(hdf5_file, progress=False)\n",
    "    del df\n",
    "    gc.collect()"
   ]
  },
  {
   "cell_type": "code",
   "execution_count": 4,
   "metadata": {},
   "outputs": [],
   "source": [
    "csv_to_vaex_hdf5('/data/csv/OKEx.Swap.XMR_USD.csv.zip', '/data/vaex-hdf5/OKEx.Swap.XMR_USD.hdf5')"
   ]
  },
  {
   "cell_type": "code",
   "execution_count": 5,
   "metadata": {},
   "outputs": [],
   "source": [
    "def convert_dir(csv_dir: str, hdf5_dir: str)->None:\n",
    "    files = os.listdir(csv_dir)\n",
    "    with ProgressBar():\n",
    "        db.from_sequence(files).map(\n",
    "            lambda file: csv_to_vaex_hdf5(os.path.join(csv_dir, file), \n",
    "                                     os.path.join(hdf5_dir, file.replace('.csv.zip', '.hdf5')))\n",
    "        ).compute()"
   ]
  },
  {
   "cell_type": "code",
   "execution_count": 6,
   "metadata": {},
   "outputs": [
    {
     "name": "stdout",
     "output_type": "stream",
     "text": [
      "[########################################] | 100% Completed |  1min 28.6s\n"
     ]
    }
   ],
   "source": [
    "convert_dir(CSV_DIR, VAEX_HDF5_DIR)"
   ]
  }
 ],
 "metadata": {
  "kernelspec": {
   "display_name": "Python 3",
   "language": "python",
   "name": "python3"
  },
  "language_info": {
   "codemirror_mode": {
    "name": "ipython",
    "version": 3
   },
   "file_extension": ".py",
   "mimetype": "text/x-python",
   "name": "python",
   "nbconvert_exporter": "python",
   "pygments_lexer": "ipython3",
   "version": "3.7.6"
  }
 },
 "nbformat": 4,
 "nbformat_minor": 4
}
